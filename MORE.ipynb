{
 "cells": [
  {
   "cell_type": "code",
   "execution_count": 9,
   "id": "485fa42b-4255-497e-88a2-60cf24dc4852",
   "metadata": {},
   "outputs": [
    {
     "name": "stdout",
     "output_type": "stream",
     "text": [
      "origin\thttps://github.com/TrangHTN-DHCN/LTNC.git (fetch)\n",
      "origin\thttps://github.com/TrangHTN-DHCN/LTNC.git (push)\n"
     ]
    }
   ],
   "source": [
    "!git remote -v\n",
    "    \n"
   ]
  },
  {
   "cell_type": "code",
   "execution_count": 1,
   "id": "27d7321a-c1e7-47f6-870d-24a916e0cf6f",
   "metadata": {},
   "outputs": [
    {
     "data": {
      "text/html": [
       "<svg width=\"300\" height=\"150\" style=\"fill:none; stroke-linecap:round;\">\n",
       "    <rect width=\"100%\" height=\"100%\" fill=\"#F3F3F7\" />\n",
       "\n",
       "\n",
       "<path stroke=\"#663399\" stroke-width=\"2\" d=\"M 150,75 170,75 177.7,65.8 176.5,58.7 177.7,65.8 184.9,65.8 177.7,65.8 170,75 177.7,84.2 184.9,84.2 177.7,84.2 176.5,91.3 177.7,84.2 170,75 150,75\" />'\n",
       "\n",
       "<g transform=\"rotate(-90.0,150.0,75.0) translate(150.0, 75.0)\">\n",
       "    <circle stroke=\"#63A375\" stroke-width=\"2\" fill=\"transparent\" r=\"5.5\" cx=\"0\" cy=\"0\"/>\n",
       "    <polygon points=\"0,12 2,9 -2,9\" style=\"fill:#63A375;stroke:#63A375;stroke-width:2\"/>\n",
       "</g>\n",
       "\n",
       "</svg>"
      ],
      "text/plain": [
       "<IPython.core.display.HTML object>"
      ]
     },
     "metadata": {},
     "output_type": "display_data"
    }
   ],
   "source": [
    "from jupyturtle import forward, left, right, back\n",
    "def draw(length):\n",
    "    angle = 50\n",
    "    factor = 0.6\n",
    "    if(length > 5):\n",
    "        forward(length)\n",
    "        left(angle)\n",
    "        draw (factor*length)\n",
    "        right(2*angle)\n",
    "        draw(factor*length)\n",
    "        left(angle)\n",
    "        back(length)\n",
    "draw(20)"
   ]
  },
  {
   "cell_type": "code",
   "execution_count": null,
   "id": "b76a26d9-3941-454c-b382-6c9c11ac945a",
   "metadata": {},
   "outputs": [],
   "source": [
    "text = input()\n",
    "print(\"\".join(reversed(text))) # dung join noi \n",
    "print(*list(reversed(text)), sep = \"\") #ep thanh list và in kieu giai nen"
   ]
  },
  {
   "cell_type": "code",
   "execution_count": 5,
   "id": "7c70c8a8-abb9-4afd-b1e5-ecb412428fc4",
   "metadata": {},
   "outputs": [
    {
     "name": "stdin",
     "output_type": "stream",
     "text": [
      " con bo an co\n"
     ]
    },
    {
     "name": "stdout",
     "output_type": "stream",
     "text": [
      "co an bo con\n"
     ]
    }
   ],
   "source": [
    "#Dao nguoc thu tu cac tu trong chuoi dau vao, VD: Con bo an co => co an bo con\n",
    "text = input()\n",
    "list_word = text.split()\n",
    "list_word = list_word[::-1]\n",
    "word_convers = ' '.join(list_word)\n",
    "print(word_convers)"
   ]
  },
  {
   "cell_type": "code",
   "execution_count": 2,
   "id": "c7e832c5-f16b-4b7a-9670-d26e30edb02b",
   "metadata": {},
   "outputs": [
    {
     "name": "stdin",
     "output_type": "stream",
     "text": [
      " toi yeu em vi do chinh la em\n"
     ]
    },
    {
     "name": "stdout",
     "output_type": "stream",
     "text": [
      "me al hnihc od iv me uey iot\n"
     ]
    }
   ],
   "source": [
    "#kiểm tra chuoi doi xung khong?\n",
    "text = input()\n",
    "conver_text = text[::-1]\n",
    "print(conver_text)"
   ]
  },
  {
   "cell_type": "code",
   "execution_count": 17,
   "id": "cb30f15b-047c-44cc-a56e-4d459edaebe4",
   "metadata": {},
   "outputs": [
    {
     "name": "stdin",
     "output_type": "stream",
     "text": [
      " 2\n",
      " Bong\n",
      " Hong\n"
     ]
    },
    {
     "name": "stdout",
     "output_type": "stream",
     "text": [
      "{'Bong': 1, 'Hong': 1}\n",
      "Bong 1\n"
     ]
    }
   ],
   "source": [
    "# 1.Nhập vào n họ tên người, Tìm và in ra tên người hay gặp nhất (Tên đúng chuẩn viết hoa chữ cái đầu từ)\n",
    "n = int(input())\n",
    "\n",
    "m = 0 # so lan xuat hien nhieu nhat\n",
    "common_name = None\n",
    "mp = dict()\n",
    "\n",
    "for _ in range(n):\n",
    "    full_name = input()\n",
    "    words = full_name.split()\n",
    "    name = words[len(words) - 1]\n",
    "    if(name in mp):\n",
    "        mp[name] += 1\n",
    "    else:\n",
    "        mp[name] = 1\n",
    "    if m < mp[name]:\n",
    "        m = mp[name]\n",
    "        common_name = name\n",
    "print(mp)\n",
    "print (common_name, m)\n",
    "\n",
    "\n",
    "# Có thể sử dụng list.count - O(n^2)\n",
    "# lst = [1, 2, 2, 3, 4, 2, 5, 3, 3]\n",
    "\n",
    "# max_count = 0\n",
    "# result = None\n",
    "\n",
    "# for x in lst:\n",
    "#     if lst.count(x) > max_count:\n",
    "#         max_count = lst.count(x)\n",
    "#         result = x\n",
    "\n",
    "# print(\"Số xuất hiện nhiều nhất:\", result)\n",
    "# print(\"Số lần xuất hiện:\", max_count)\n",
    "\n",
    "##Có thể dùng Counter - O(n)\n",
    "# from collections import Counter\n",
    "\n",
    "# lst = [1, 2, 2, 3, 4, 2, 5, 3, 3]\n",
    "\n",
    "# # Đếm tần suất\n",
    "# freq = Counter(lst)\n",
    "\n",
    "# # Tìm phần tử có count lớn nhất\n",
    "# most_common = freq.most_common(1)[0]   # [(giá trị, số lần)]\n",
    "# print(\"Số xuất hiện nhiều nhất:\", most_common[0])\n",
    "# print(\"Số lần xuất hiện:\", most_common[1])\n",
    "\n",
    "# mode, count = freq.most_common(1)[0]\n",
    "# print(\"Mode:\", mode, \"xuất hiện:\", count, \"lần\")\n",
    "\n"
   ]
  },
  {
   "cell_type": "markdown",
   "id": "06632d9a-daaa-446c-ae4e-03ea61f4d062",
   "metadata": {},
   "source": [
    "8\n",
    "Nguyen Thi Minh Khai\n",
    "Hoang Vu Khai\n",
    "Hoang The Anh\n",
    "Nguyen Vu Thuy Anh\n",
    "Le Nguyen Khoi\n",
    "Le Ba Khai\n",
    "Bui Thi Thuy\n",
    "Nguyen Vu Binh Duong"
   ]
  },
  {
   "cell_type": "code",
   "execution_count": 8,
   "id": "f98ea353-a449-4c8a-b3d4-38aeaafaa90a",
   "metadata": {},
   "outputs": [
    {
     "name": "stdin",
     "output_type": "stream",
     "text": [
      "  Chung toi hoc That Cham chi nhe Ban than Men\n"
     ]
    },
    {
     "name": "stdout",
     "output_type": "stream",
     "text": [
      "5\n"
     ]
    }
   ],
   "source": [
    "# Đếm số lượng Tên trong một xâu kí tự, Tên hợp lệ là từ có độ dài >=2 và có viết hoa đầu từ\n",
    "def is_valid_name(word):\n",
    "    return (len(word) >= 2 and word.istitle())\n",
    "# text = input()\n",
    "words = input().split()\n",
    "cnt = len(list(filter(is_valid_name, words)))\n",
    "\n",
    "print(cnt)\n"
   ]
  },
  {
   "cell_type": "code",
   "execution_count": 2,
   "id": "f4051cfe-a0f9-451d-b989-cc6dfce4849f",
   "metadata": {},
   "outputs": [
    {
     "name": "stdin",
     "output_type": "stream",
     "text": [
      " 1 4 5 7 8 90\n",
      " 1 34 78 900\n"
     ]
    },
    {
     "name": "stdout",
     "output_type": "stream",
     "text": [
      "1 1 4 5 7 8 34 78 90 900\n"
     ]
    }
   ],
   "source": [
    "#Trộn hai mảng thành một mà không dùng sắp xếp\n",
    "lst1 = list(map(int, input().split()))\n",
    "lst2 = list(map(int, input().split()))\n",
    "lst_merge = []\n",
    "i = 0\n",
    "j = 0\n",
    "while i < len(lst1) and j < len(lst2):\n",
    "    if(lst1[i] < lst2[j]):\n",
    "        lst_merge.append(lst1[i])\n",
    "        i += 1\n",
    "    else:\n",
    "        lst_merge.append(lst2[j])\n",
    "        j += 1\n",
    "while i < len(lst1):\n",
    "    lst_merge.append(lst1[i])\n",
    "    i += 1\n",
    "while j < len(lst2):\n",
    "    lst_merge.append(lst2[j])\n",
    "    j += 1\n",
    "\n",
    "print(*lst_merge)\n",
    "    "
   ]
  },
  {
   "cell_type": "code",
   "execution_count": 7,
   "id": "21b80efd-bff0-4fc7-956b-ca1dc2d702f4",
   "metadata": {},
   "outputs": [
    {
     "name": "stdin",
     "output_type": "stream",
     "text": [
      " 123 42 24 15 600 900 123000\n",
      " 6\n"
     ]
    },
    {
     "name": "stdout",
     "output_type": "stream",
     "text": [
      "123804\n"
     ]
    }
   ],
   "source": [
    "# Cho một dãy số nguyên, tính tổng (hoặc đếm, hoặc in ra) các số có tổng các chữ số bằng đúng K\n",
    "lst_int = map(int, input().split())\n",
    "k = int(input())\n",
    "\n",
    "def isValid(x: int) -> bool:\n",
    "    m = 0\n",
    "    while x > 0:\n",
    "        m += x %10\n",
    "        x //= 10\n",
    "    return m == k\n",
    "    \n",
    "s = 0 #Bien chua tong cua cac so\n",
    "for x in lst_int:\n",
    "    if isValid(x):\n",
    "        s += x\n",
    "\n",
    "print (s)\n",
    "\n",
    "#hãy tìm hiểu thêm cách dùng hàm sum - filter"
   ]
  },
  {
   "cell_type": "code",
   "execution_count": 2,
   "id": "cd2c8a90-4584-4afc-b6fb-4e66fec917d7",
   "metadata": {},
   "outputs": [
    {
     "name": "stdin",
     "output_type": "stream",
     "text": [
      " 23 9\n"
     ]
    },
    {
     "name": "stdout",
     "output_type": "stream",
     "text": [
      "267\n"
     ]
    }
   ],
   "source": [
    "# Cho N là ngày, T là tháng của năm 2000 (năm nhuận). Tính xem đó là ngày thứ bao nhiêu của năm. \n",
    "# Nhớ phải kiểm tra tính hợp lệ của dữ liệu vào\n",
    "# VD: ngày 2/2 là ngày thứ 33 của năm đó\n",
    "\n",
    "dayInMonth = [0, 31, 29, 31, 30, 31, 30, 31, 31, 30, 31, 30, 31]\n",
    "N, T = map(int, input().split())\n",
    "\n",
    "assert (1 <= T <= 12), 'Thang khong hop le'\n",
    "assert (1 <= N <= dayInMonth[T]), 'Ngay khong phu hop'\n",
    "\n",
    "# daysInYear = 0\n",
    "# for i in range (1, T):\n",
    "#     daysInYear += dayInMonth[i]\n",
    "\n",
    "# daysInYear += N\n",
    "# print(daysInYear)\n",
    "\n",
    "#Dung sum\n",
    "\n",
    "daysInYear = sum(dayInMonth[1:T]) + N\n",
    "print(daysInYear)\n",
    "   \n"
   ]
  },
  {
   "cell_type": "code",
   "execution_count": 3,
   "id": "e132ed46-b81b-4a1f-96fe-fc412154ee2d",
   "metadata": {},
   "outputs": [
    {
     "name": "stdin",
     "output_type": "stream",
     "text": [
      " Toi di hoc hoc, hoc, hoc\n"
     ]
    },
    {
     "name": "stdout",
     "output_type": "stream",
     "text": [
      "Toi di hoc hoc, hoc, hoc\n"
     ]
    }
   ],
   "source": [
    "# Xóa các từ giống nhau liền nhau trong mot doan van di\n",
    "lst = input().split()\n",
    "lst_in = []\n",
    "lst_in.append(lst[0])\n",
    "prev = lst[0]#luu lai tu moi them vao cuoi lst_in\n",
    "for i in range (1, len(lst)):\n",
    "    if lst[i] != prev:\n",
    "        prev = lst[i]\n",
    "        lst_in.append(prev)\n",
    "ans = ' '.join(lst_in)\n",
    "print(ans)"
   ]
  },
  {
   "cell_type": "code",
   "execution_count": null,
   "id": "69f61b8f-a7e0-44bd-9848-572a351e2061",
   "metadata": {},
   "outputs": [],
   "source": [
    "#### Xóa các từ giống nhau liền nhau trong mot doan van di, xử lý bỏ cả dấu câu\n",
    "import re\n",
    "\n",
    "text = input(\"Nhập đoạn văn: \")\n",
    "\n",
    "# Tách từ theo nhiều dấu phân tách: , ; .\n",
    "lst = re.split(r\"[,\\.;\\s]+\", text.strip())\n",
    "\n",
    "lst_in = []\n",
    "lst_in.append(lst[0])\n",
    "\n",
    "prev = lst[0]#luu lai tu moi them vao cuoi lst_in\n",
    "\n",
    "for i in range (1, len(lst)):\n",
    "    if lst[i] != prev:\n",
    "        prev = lst[i]\n",
    "        lst_in.append(prev)\n",
    "        \n",
    "ans = ' '.join(lst_in)\n",
    "print(ans)"
   ]
  },
  {
   "cell_type": "code",
   "execution_count": 3,
   "id": "888b3607-478a-442c-a434-738d215b4c10",
   "metadata": {},
   "outputs": [
    {
     "data": {
      "text/plain": [
       "['ArithmeticError',\n",
       " 'AssertionError',\n",
       " 'AttributeError',\n",
       " 'BaseException',\n",
       " 'BaseExceptionGroup',\n",
       " 'BlockingIOError',\n",
       " 'BrokenPipeError',\n",
       " 'BufferError',\n",
       " 'BytesWarning',\n",
       " 'ChildProcessError',\n",
       " 'ConnectionAbortedError',\n",
       " 'ConnectionError',\n",
       " 'ConnectionRefusedError',\n",
       " 'ConnectionResetError',\n",
       " 'DeprecationWarning',\n",
       " 'EOFError',\n",
       " 'Ellipsis',\n",
       " 'EncodingWarning',\n",
       " 'EnvironmentError',\n",
       " 'Exception',\n",
       " 'ExceptionGroup',\n",
       " 'False',\n",
       " 'FileExistsError',\n",
       " 'FileNotFoundError',\n",
       " 'FloatingPointError',\n",
       " 'FutureWarning',\n",
       " 'GeneratorExit',\n",
       " 'IOError',\n",
       " 'ImportError',\n",
       " 'ImportWarning',\n",
       " 'IndentationError',\n",
       " 'IndexError',\n",
       " 'InterruptedError',\n",
       " 'IsADirectoryError',\n",
       " 'KeyError',\n",
       " 'KeyboardInterrupt',\n",
       " 'LookupError',\n",
       " 'MemoryError',\n",
       " 'ModuleNotFoundError',\n",
       " 'NameError',\n",
       " 'None',\n",
       " 'NotADirectoryError',\n",
       " 'NotImplemented',\n",
       " 'NotImplementedError',\n",
       " 'OSError',\n",
       " 'OverflowError',\n",
       " 'PendingDeprecationWarning',\n",
       " 'PermissionError',\n",
       " 'ProcessLookupError',\n",
       " 'RecursionError',\n",
       " 'ReferenceError',\n",
       " 'ResourceWarning',\n",
       " 'RuntimeError',\n",
       " 'RuntimeWarning',\n",
       " 'StopAsyncIteration',\n",
       " 'StopIteration',\n",
       " 'SyntaxError',\n",
       " 'SyntaxWarning',\n",
       " 'SystemError',\n",
       " 'SystemExit',\n",
       " 'TabError',\n",
       " 'TimeoutError',\n",
       " 'True',\n",
       " 'TypeError',\n",
       " 'UnboundLocalError',\n",
       " 'UnicodeDecodeError',\n",
       " 'UnicodeEncodeError',\n",
       " 'UnicodeError',\n",
       " 'UnicodeTranslateError',\n",
       " 'UnicodeWarning',\n",
       " 'UserWarning',\n",
       " 'ValueError',\n",
       " 'Warning',\n",
       " 'WindowsError',\n",
       " 'ZeroDivisionError',\n",
       " '__IPYTHON__',\n",
       " '__build_class__',\n",
       " '__debug__',\n",
       " '__doc__',\n",
       " '__import__',\n",
       " '__loader__',\n",
       " '__name__',\n",
       " '__package__',\n",
       " '__spec__',\n",
       " 'abs',\n",
       " 'aiter',\n",
       " 'all',\n",
       " 'anext',\n",
       " 'any',\n",
       " 'ascii',\n",
       " 'bin',\n",
       " 'bool',\n",
       " 'breakpoint',\n",
       " 'bytearray',\n",
       " 'bytes',\n",
       " 'callable',\n",
       " 'chr',\n",
       " 'classmethod',\n",
       " 'compile',\n",
       " 'complex',\n",
       " 'copyright',\n",
       " 'credits',\n",
       " 'delattr',\n",
       " 'dict',\n",
       " 'dir',\n",
       " 'display',\n",
       " 'divmod',\n",
       " 'enumerate',\n",
       " 'eval',\n",
       " 'exec',\n",
       " 'execfile',\n",
       " 'filter',\n",
       " 'float',\n",
       " 'format',\n",
       " 'frozenset',\n",
       " 'get_ipython',\n",
       " 'getattr',\n",
       " 'globals',\n",
       " 'hasattr',\n",
       " 'hash',\n",
       " 'help',\n",
       " 'hex',\n",
       " 'id',\n",
       " 'input',\n",
       " 'int',\n",
       " 'isinstance',\n",
       " 'issubclass',\n",
       " 'iter',\n",
       " 'len',\n",
       " 'license',\n",
       " 'list',\n",
       " 'locals',\n",
       " 'map',\n",
       " 'max',\n",
       " 'memoryview',\n",
       " 'min',\n",
       " 'next',\n",
       " 'object',\n",
       " 'oct',\n",
       " 'open',\n",
       " 'ord',\n",
       " 'pow',\n",
       " 'print',\n",
       " 'property',\n",
       " 'range',\n",
       " 'repr',\n",
       " 'reversed',\n",
       " 'round',\n",
       " 'runfile',\n",
       " 'set',\n",
       " 'setattr',\n",
       " 'slice',\n",
       " 'sorted',\n",
       " 'staticmethod',\n",
       " 'str',\n",
       " 'sum',\n",
       " 'super',\n",
       " 'tuple',\n",
       " 'type',\n",
       " 'vars',\n",
       " 'zip']"
      ]
     },
     "execution_count": 3,
     "metadata": {},
     "output_type": "execute_result"
    }
   ],
   "source": [
    "import builtins\n",
    "dir(builtins)"
   ]
  },
  {
   "cell_type": "code",
   "execution_count": null,
   "id": "2755440c-dcb8-487a-a346-d64b2b9403fe",
   "metadata": {},
   "outputs": [],
   "source": []
  }
 ],
 "metadata": {
  "kernelspec": {
   "display_name": "Python 3 (ipykernel)",
   "language": "python",
   "name": "python3"
  },
  "language_info": {
   "codemirror_mode": {
    "name": "ipython",
    "version": 3
   },
   "file_extension": ".py",
   "mimetype": "text/x-python",
   "name": "python",
   "nbconvert_exporter": "python",
   "pygments_lexer": "ipython3",
   "version": "3.11.9"
  }
 },
 "nbformat": 4,
 "nbformat_minor": 5
}
