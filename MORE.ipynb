{
 "cells": [
  {
   "cell_type": "code",
   "execution_count": 3,
   "id": "485fa42b-4255-497e-88a2-60cf24dc4852",
   "metadata": {},
   "outputs": [
    {
     "name": "stdout",
     "output_type": "stream",
     "text": [
      "Collecting jupyturtle\n",
      "  Downloading jupyturtle-2024.4.1-py3-none-any.whl.metadata (2.5 kB)\n",
      "Requirement already satisfied: ipython>=8 in c:\\users\\ad\\appdata\\local\\packages\\pythonsoftwarefoundation.python.3.11_qbz5n2kfra8p0\\localcache\\local-packages\\python311\\site-packages (from jupyturtle) (9.5.0)\n",
      "Collecting jupyter (from jupyturtle)\n",
      "  Downloading jupyter-1.1.1-py2.py3-none-any.whl.metadata (2.0 kB)\n",
      "Collecting pytest (from jupyturtle)\n",
      "  Downloading pytest-8.4.2-py3-none-any.whl.metadata (7.7 kB)\n",
      "Requirement already satisfied: colorama in c:\\users\\ad\\appdata\\local\\packages\\pythonsoftwarefoundation.python.3.11_qbz5n2kfra8p0\\localcache\\local-packages\\python311\\site-packages (from ipython>=8->jupyturtle) (0.4.6)\n",
      "Requirement already satisfied: decorator in c:\\users\\ad\\appdata\\local\\packages\\pythonsoftwarefoundation.python.3.11_qbz5n2kfra8p0\\localcache\\local-packages\\python311\\site-packages (from ipython>=8->jupyturtle) (5.2.1)\n",
      "Requirement already satisfied: ipython-pygments-lexers in c:\\users\\ad\\appdata\\local\\packages\\pythonsoftwarefoundation.python.3.11_qbz5n2kfra8p0\\localcache\\local-packages\\python311\\site-packages (from ipython>=8->jupyturtle) (1.1.1)\n",
      "Requirement already satisfied: jedi>=0.16 in c:\\users\\ad\\appdata\\local\\packages\\pythonsoftwarefoundation.python.3.11_qbz5n2kfra8p0\\localcache\\local-packages\\python311\\site-packages (from ipython>=8->jupyturtle) (0.19.2)\n",
      "Requirement already satisfied: matplotlib-inline in c:\\users\\ad\\appdata\\local\\packages\\pythonsoftwarefoundation.python.3.11_qbz5n2kfra8p0\\localcache\\local-packages\\python311\\site-packages (from ipython>=8->jupyturtle) (0.1.7)\n",
      "Requirement already satisfied: prompt_toolkit<3.1.0,>=3.0.41 in c:\\users\\ad\\appdata\\local\\packages\\pythonsoftwarefoundation.python.3.11_qbz5n2kfra8p0\\localcache\\local-packages\\python311\\site-packages (from ipython>=8->jupyturtle) (3.0.52)\n",
      "Requirement already satisfied: pygments>=2.4.0 in c:\\users\\ad\\appdata\\local\\packages\\pythonsoftwarefoundation.python.3.11_qbz5n2kfra8p0\\localcache\\local-packages\\python311\\site-packages (from ipython>=8->jupyturtle) (2.19.2)\n",
      "Requirement already satisfied: stack_data in c:\\users\\ad\\appdata\\local\\packages\\pythonsoftwarefoundation.python.3.11_qbz5n2kfra8p0\\localcache\\local-packages\\python311\\site-packages (from ipython>=8->jupyturtle) (0.6.3)\n",
      "Requirement already satisfied: traitlets>=5.13.0 in c:\\users\\ad\\appdata\\local\\packages\\pythonsoftwarefoundation.python.3.11_qbz5n2kfra8p0\\localcache\\local-packages\\python311\\site-packages (from ipython>=8->jupyturtle) (5.14.3)\n",
      "Requirement already satisfied: typing_extensions>=4.6 in c:\\users\\ad\\appdata\\local\\packages\\pythonsoftwarefoundation.python.3.11_qbz5n2kfra8p0\\localcache\\local-packages\\python311\\site-packages (from ipython>=8->jupyturtle) (4.14.0)\n",
      "Requirement already satisfied: wcwidth in c:\\users\\ad\\appdata\\local\\packages\\pythonsoftwarefoundation.python.3.11_qbz5n2kfra8p0\\localcache\\local-packages\\python311\\site-packages (from prompt_toolkit<3.1.0,>=3.0.41->ipython>=8->jupyturtle) (0.2.13)\n",
      "Requirement already satisfied: parso<0.9.0,>=0.8.4 in c:\\users\\ad\\appdata\\local\\packages\\pythonsoftwarefoundation.python.3.11_qbz5n2kfra8p0\\localcache\\local-packages\\python311\\site-packages (from jedi>=0.16->ipython>=8->jupyturtle) (0.8.5)\n",
      "Requirement already satisfied: notebook in c:\\users\\ad\\appdata\\local\\packages\\pythonsoftwarefoundation.python.3.11_qbz5n2kfra8p0\\localcache\\local-packages\\python311\\site-packages (from jupyter->jupyturtle) (7.4.5)\n",
      "Collecting jupyter-console (from jupyter->jupyturtle)\n",
      "  Downloading jupyter_console-6.6.3-py3-none-any.whl.metadata (5.8 kB)\n",
      "Requirement already satisfied: nbconvert in c:\\users\\ad\\appdata\\local\\packages\\pythonsoftwarefoundation.python.3.11_qbz5n2kfra8p0\\localcache\\local-packages\\python311\\site-packages (from jupyter->jupyturtle) (7.16.6)\n",
      "Requirement already satisfied: ipykernel in c:\\users\\ad\\appdata\\local\\packages\\pythonsoftwarefoundation.python.3.11_qbz5n2kfra8p0\\localcache\\local-packages\\python311\\site-packages (from jupyter->jupyturtle) (6.30.1)\n",
      "Collecting ipywidgets (from jupyter->jupyturtle)\n",
      "  Downloading ipywidgets-8.1.7-py3-none-any.whl.metadata (2.4 kB)\n",
      "Requirement already satisfied: jupyterlab in c:\\users\\ad\\appdata\\local\\packages\\pythonsoftwarefoundation.python.3.11_qbz5n2kfra8p0\\localcache\\local-packages\\python311\\site-packages (from jupyter->jupyturtle) (4.4.7)\n",
      "Requirement already satisfied: comm>=0.1.1 in c:\\users\\ad\\appdata\\local\\packages\\pythonsoftwarefoundation.python.3.11_qbz5n2kfra8p0\\localcache\\local-packages\\python311\\site-packages (from ipykernel->jupyter->jupyturtle) (0.2.3)\n",
      "Requirement already satisfied: debugpy>=1.6.5 in c:\\users\\ad\\appdata\\local\\packages\\pythonsoftwarefoundation.python.3.11_qbz5n2kfra8p0\\localcache\\local-packages\\python311\\site-packages (from ipykernel->jupyter->jupyturtle) (1.8.16)\n",
      "Requirement already satisfied: jupyter-client>=8.0.0 in c:\\users\\ad\\appdata\\local\\packages\\pythonsoftwarefoundation.python.3.11_qbz5n2kfra8p0\\localcache\\local-packages\\python311\\site-packages (from ipykernel->jupyter->jupyturtle) (8.6.3)\n",
      "Requirement already satisfied: jupyter-core!=5.0.*,>=4.12 in c:\\users\\ad\\appdata\\local\\packages\\pythonsoftwarefoundation.python.3.11_qbz5n2kfra8p0\\localcache\\local-packages\\python311\\site-packages (from ipykernel->jupyter->jupyturtle) (5.8.1)\n",
      "Requirement already satisfied: nest-asyncio>=1.4 in c:\\users\\ad\\appdata\\local\\packages\\pythonsoftwarefoundation.python.3.11_qbz5n2kfra8p0\\localcache\\local-packages\\python311\\site-packages (from ipykernel->jupyter->jupyturtle) (1.6.0)\n",
      "Requirement already satisfied: packaging>=22 in c:\\users\\ad\\appdata\\local\\packages\\pythonsoftwarefoundation.python.3.11_qbz5n2kfra8p0\\localcache\\local-packages\\python311\\site-packages (from ipykernel->jupyter->jupyturtle) (25.0)\n",
      "Requirement already satisfied: psutil>=5.7 in c:\\users\\ad\\appdata\\local\\packages\\pythonsoftwarefoundation.python.3.11_qbz5n2kfra8p0\\localcache\\local-packages\\python311\\site-packages (from ipykernel->jupyter->jupyturtle) (7.0.0)\n",
      "Requirement already satisfied: pyzmq>=25 in c:\\users\\ad\\appdata\\local\\packages\\pythonsoftwarefoundation.python.3.11_qbz5n2kfra8p0\\localcache\\local-packages\\python311\\site-packages (from ipykernel->jupyter->jupyturtle) (27.1.0)\n",
      "Requirement already satisfied: tornado>=6.2 in c:\\users\\ad\\appdata\\local\\packages\\pythonsoftwarefoundation.python.3.11_qbz5n2kfra8p0\\localcache\\local-packages\\python311\\site-packages (from ipykernel->jupyter->jupyturtle) (6.5.2)\n",
      "Requirement already satisfied: python-dateutil>=2.8.2 in c:\\users\\ad\\appdata\\local\\packages\\pythonsoftwarefoundation.python.3.11_qbz5n2kfra8p0\\localcache\\local-packages\\python311\\site-packages (from jupyter-client>=8.0.0->ipykernel->jupyter->jupyturtle) (2.9.0.post0)\n",
      "Requirement already satisfied: platformdirs>=2.5 in c:\\users\\ad\\appdata\\local\\packages\\pythonsoftwarefoundation.python.3.11_qbz5n2kfra8p0\\localcache\\local-packages\\python311\\site-packages (from jupyter-core!=5.0.*,>=4.12->ipykernel->jupyter->jupyturtle) (4.4.0)\n",
      "Requirement already satisfied: pywin32>=300 in c:\\users\\ad\\appdata\\local\\packages\\pythonsoftwarefoundation.python.3.11_qbz5n2kfra8p0\\localcache\\local-packages\\python311\\site-packages (from jupyter-core!=5.0.*,>=4.12->ipykernel->jupyter->jupyturtle) (311)\n",
      "Requirement already satisfied: six>=1.5 in c:\\users\\ad\\appdata\\local\\packages\\pythonsoftwarefoundation.python.3.11_qbz5n2kfra8p0\\localcache\\local-packages\\python311\\site-packages (from python-dateutil>=2.8.2->jupyter-client>=8.0.0->ipykernel->jupyter->jupyturtle) (1.17.0)\n",
      "Collecting widgetsnbextension~=4.0.14 (from ipywidgets->jupyter->jupyturtle)\n",
      "  Downloading widgetsnbextension-4.0.14-py3-none-any.whl.metadata (1.6 kB)\n",
      "Collecting jupyterlab_widgets~=3.0.15 (from ipywidgets->jupyter->jupyturtle)\n",
      "  Downloading jupyterlab_widgets-3.0.15-py3-none-any.whl.metadata (20 kB)\n",
      "Requirement already satisfied: async-lru>=1.0.0 in c:\\users\\ad\\appdata\\local\\packages\\pythonsoftwarefoundation.python.3.11_qbz5n2kfra8p0\\localcache\\local-packages\\python311\\site-packages (from jupyterlab->jupyter->jupyturtle) (2.0.5)\n",
      "Requirement already satisfied: httpx<1,>=0.25.0 in c:\\users\\ad\\appdata\\local\\packages\\pythonsoftwarefoundation.python.3.11_qbz5n2kfra8p0\\localcache\\local-packages\\python311\\site-packages (from jupyterlab->jupyter->jupyturtle) (0.28.1)\n",
      "Requirement already satisfied: jinja2>=3.0.3 in c:\\users\\ad\\appdata\\local\\packages\\pythonsoftwarefoundation.python.3.11_qbz5n2kfra8p0\\localcache\\local-packages\\python311\\site-packages (from jupyterlab->jupyter->jupyturtle) (3.1.6)\n",
      "Requirement already satisfied: jupyter-lsp>=2.0.0 in c:\\users\\ad\\appdata\\local\\packages\\pythonsoftwarefoundation.python.3.11_qbz5n2kfra8p0\\localcache\\local-packages\\python311\\site-packages (from jupyterlab->jupyter->jupyturtle) (2.3.0)\n",
      "Requirement already satisfied: jupyter-server<3,>=2.4.0 in c:\\users\\ad\\appdata\\local\\packages\\pythonsoftwarefoundation.python.3.11_qbz5n2kfra8p0\\localcache\\local-packages\\python311\\site-packages (from jupyterlab->jupyter->jupyturtle) (2.17.0)\n",
      "Requirement already satisfied: jupyterlab-server<3,>=2.27.1 in c:\\users\\ad\\appdata\\local\\packages\\pythonsoftwarefoundation.python.3.11_qbz5n2kfra8p0\\localcache\\local-packages\\python311\\site-packages (from jupyterlab->jupyter->jupyturtle) (2.27.3)\n",
      "Requirement already satisfied: notebook-shim>=0.2 in c:\\users\\ad\\appdata\\local\\packages\\pythonsoftwarefoundation.python.3.11_qbz5n2kfra8p0\\localcache\\local-packages\\python311\\site-packages (from jupyterlab->jupyter->jupyturtle) (0.2.4)\n",
      "Requirement already satisfied: setuptools>=41.1.0 in c:\\program files\\windowsapps\\pythonsoftwarefoundation.python.3.11_3.11.2544.0_x64__qbz5n2kfra8p0\\lib\\site-packages (from jupyterlab->jupyter->jupyturtle) (65.5.0)\n",
      "Requirement already satisfied: anyio in c:\\users\\ad\\appdata\\local\\packages\\pythonsoftwarefoundation.python.3.11_qbz5n2kfra8p0\\localcache\\local-packages\\python311\\site-packages (from httpx<1,>=0.25.0->jupyterlab->jupyter->jupyturtle) (4.10.0)\n",
      "Requirement already satisfied: certifi in c:\\users\\ad\\appdata\\local\\packages\\pythonsoftwarefoundation.python.3.11_qbz5n2kfra8p0\\localcache\\local-packages\\python311\\site-packages (from httpx<1,>=0.25.0->jupyterlab->jupyter->jupyturtle) (2025.8.3)\n",
      "Requirement already satisfied: httpcore==1.* in c:\\users\\ad\\appdata\\local\\packages\\pythonsoftwarefoundation.python.3.11_qbz5n2kfra8p0\\localcache\\local-packages\\python311\\site-packages (from httpx<1,>=0.25.0->jupyterlab->jupyter->jupyturtle) (1.0.9)\n",
      "Requirement already satisfied: idna in c:\\users\\ad\\appdata\\local\\packages\\pythonsoftwarefoundation.python.3.11_qbz5n2kfra8p0\\localcache\\local-packages\\python311\\site-packages (from httpx<1,>=0.25.0->jupyterlab->jupyter->jupyturtle) (3.10)\n",
      "Requirement already satisfied: h11>=0.16 in c:\\users\\ad\\appdata\\local\\packages\\pythonsoftwarefoundation.python.3.11_qbz5n2kfra8p0\\localcache\\local-packages\\python311\\site-packages (from httpcore==1.*->httpx<1,>=0.25.0->jupyterlab->jupyter->jupyturtle) (0.16.0)\n",
      "Requirement already satisfied: argon2-cffi>=21.1 in c:\\users\\ad\\appdata\\local\\packages\\pythonsoftwarefoundation.python.3.11_qbz5n2kfra8p0\\localcache\\local-packages\\python311\\site-packages (from jupyter-server<3,>=2.4.0->jupyterlab->jupyter->jupyturtle) (25.1.0)\n",
      "Requirement already satisfied: jupyter-events>=0.11.0 in c:\\users\\ad\\appdata\\local\\packages\\pythonsoftwarefoundation.python.3.11_qbz5n2kfra8p0\\localcache\\local-packages\\python311\\site-packages (from jupyter-server<3,>=2.4.0->jupyterlab->jupyter->jupyturtle) (0.12.0)\n",
      "Requirement already satisfied: jupyter-server-terminals>=0.4.4 in c:\\users\\ad\\appdata\\local\\packages\\pythonsoftwarefoundation.python.3.11_qbz5n2kfra8p0\\localcache\\local-packages\\python311\\site-packages (from jupyter-server<3,>=2.4.0->jupyterlab->jupyter->jupyturtle) (0.5.3)\n",
      "Requirement already satisfied: nbformat>=5.3.0 in c:\\users\\ad\\appdata\\local\\packages\\pythonsoftwarefoundation.python.3.11_qbz5n2kfra8p0\\localcache\\local-packages\\python311\\site-packages (from jupyter-server<3,>=2.4.0->jupyterlab->jupyter->jupyturtle) (5.10.4)\n",
      "Requirement already satisfied: overrides>=5.0 in c:\\users\\ad\\appdata\\local\\packages\\pythonsoftwarefoundation.python.3.11_qbz5n2kfra8p0\\localcache\\local-packages\\python311\\site-packages (from jupyter-server<3,>=2.4.0->jupyterlab->jupyter->jupyturtle) (7.7.0)\n",
      "Requirement already satisfied: prometheus-client>=0.9 in c:\\users\\ad\\appdata\\local\\packages\\pythonsoftwarefoundation.python.3.11_qbz5n2kfra8p0\\localcache\\local-packages\\python311\\site-packages (from jupyter-server<3,>=2.4.0->jupyterlab->jupyter->jupyturtle) (0.22.1)\n",
      "Requirement already satisfied: pywinpty>=2.0.1 in c:\\users\\ad\\appdata\\local\\packages\\pythonsoftwarefoundation.python.3.11_qbz5n2kfra8p0\\localcache\\local-packages\\python311\\site-packages (from jupyter-server<3,>=2.4.0->jupyterlab->jupyter->jupyturtle) (3.0.0)\n",
      "Requirement already satisfied: send2trash>=1.8.2 in c:\\users\\ad\\appdata\\local\\packages\\pythonsoftwarefoundation.python.3.11_qbz5n2kfra8p0\\localcache\\local-packages\\python311\\site-packages (from jupyter-server<3,>=2.4.0->jupyterlab->jupyter->jupyturtle) (1.8.3)\n",
      "Requirement already satisfied: terminado>=0.8.3 in c:\\users\\ad\\appdata\\local\\packages\\pythonsoftwarefoundation.python.3.11_qbz5n2kfra8p0\\localcache\\local-packages\\python311\\site-packages (from jupyter-server<3,>=2.4.0->jupyterlab->jupyter->jupyturtle) (0.18.1)\n",
      "Requirement already satisfied: websocket-client>=1.7 in c:\\users\\ad\\appdata\\local\\packages\\pythonsoftwarefoundation.python.3.11_qbz5n2kfra8p0\\localcache\\local-packages\\python311\\site-packages (from jupyter-server<3,>=2.4.0->jupyterlab->jupyter->jupyturtle) (1.8.0)\n",
      "Requirement already satisfied: babel>=2.10 in c:\\users\\ad\\appdata\\local\\packages\\pythonsoftwarefoundation.python.3.11_qbz5n2kfra8p0\\localcache\\local-packages\\python311\\site-packages (from jupyterlab-server<3,>=2.27.1->jupyterlab->jupyter->jupyturtle) (2.17.0)\n",
      "Requirement already satisfied: json5>=0.9.0 in c:\\users\\ad\\appdata\\local\\packages\\pythonsoftwarefoundation.python.3.11_qbz5n2kfra8p0\\localcache\\local-packages\\python311\\site-packages (from jupyterlab-server<3,>=2.27.1->jupyterlab->jupyter->jupyturtle) (0.12.1)\n",
      "Requirement already satisfied: jsonschema>=4.18.0 in c:\\users\\ad\\appdata\\local\\packages\\pythonsoftwarefoundation.python.3.11_qbz5n2kfra8p0\\localcache\\local-packages\\python311\\site-packages (from jupyterlab-server<3,>=2.27.1->jupyterlab->jupyter->jupyturtle) (4.25.1)\n",
      "Requirement already satisfied: requests>=2.31 in c:\\users\\ad\\appdata\\local\\packages\\pythonsoftwarefoundation.python.3.11_qbz5n2kfra8p0\\localcache\\local-packages\\python311\\site-packages (from jupyterlab-server<3,>=2.27.1->jupyterlab->jupyter->jupyturtle) (2.32.5)\n",
      "Requirement already satisfied: sniffio>=1.1 in c:\\users\\ad\\appdata\\local\\packages\\pythonsoftwarefoundation.python.3.11_qbz5n2kfra8p0\\localcache\\local-packages\\python311\\site-packages (from anyio->httpx<1,>=0.25.0->jupyterlab->jupyter->jupyturtle) (1.3.1)\n",
      "Requirement already satisfied: argon2-cffi-bindings in c:\\users\\ad\\appdata\\local\\packages\\pythonsoftwarefoundation.python.3.11_qbz5n2kfra8p0\\localcache\\local-packages\\python311\\site-packages (from argon2-cffi>=21.1->jupyter-server<3,>=2.4.0->jupyterlab->jupyter->jupyturtle) (25.1.0)\n",
      "Requirement already satisfied: MarkupSafe>=2.0 in c:\\users\\ad\\appdata\\local\\packages\\pythonsoftwarefoundation.python.3.11_qbz5n2kfra8p0\\localcache\\local-packages\\python311\\site-packages (from jinja2>=3.0.3->jupyterlab->jupyter->jupyturtle) (3.0.2)\n",
      "Requirement already satisfied: attrs>=22.2.0 in c:\\users\\ad\\appdata\\local\\packages\\pythonsoftwarefoundation.python.3.11_qbz5n2kfra8p0\\localcache\\local-packages\\python311\\site-packages (from jsonschema>=4.18.0->jupyterlab-server<3,>=2.27.1->jupyterlab->jupyter->jupyturtle) (25.3.0)\n",
      "Requirement already satisfied: jsonschema-specifications>=2023.03.6 in c:\\users\\ad\\appdata\\local\\packages\\pythonsoftwarefoundation.python.3.11_qbz5n2kfra8p0\\localcache\\local-packages\\python311\\site-packages (from jsonschema>=4.18.0->jupyterlab-server<3,>=2.27.1->jupyterlab->jupyter->jupyturtle) (2025.9.1)\n",
      "Requirement already satisfied: referencing>=0.28.4 in c:\\users\\ad\\appdata\\local\\packages\\pythonsoftwarefoundation.python.3.11_qbz5n2kfra8p0\\localcache\\local-packages\\python311\\site-packages (from jsonschema>=4.18.0->jupyterlab-server<3,>=2.27.1->jupyterlab->jupyter->jupyturtle) (0.36.2)\n",
      "Requirement already satisfied: rpds-py>=0.7.1 in c:\\users\\ad\\appdata\\local\\packages\\pythonsoftwarefoundation.python.3.11_qbz5n2kfra8p0\\localcache\\local-packages\\python311\\site-packages (from jsonschema>=4.18.0->jupyterlab-server<3,>=2.27.1->jupyterlab->jupyter->jupyturtle) (0.27.1)\n",
      "Requirement already satisfied: python-json-logger>=2.0.4 in c:\\users\\ad\\appdata\\local\\packages\\pythonsoftwarefoundation.python.3.11_qbz5n2kfra8p0\\localcache\\local-packages\\python311\\site-packages (from jupyter-events>=0.11.0->jupyter-server<3,>=2.4.0->jupyterlab->jupyter->jupyturtle) (3.3.0)\n",
      "Requirement already satisfied: pyyaml>=5.3 in c:\\users\\ad\\appdata\\local\\packages\\pythonsoftwarefoundation.python.3.11_qbz5n2kfra8p0\\localcache\\local-packages\\python311\\site-packages (from jupyter-events>=0.11.0->jupyter-server<3,>=2.4.0->jupyterlab->jupyter->jupyturtle) (6.0.2)\n",
      "Requirement already satisfied: rfc3339-validator in c:\\users\\ad\\appdata\\local\\packages\\pythonsoftwarefoundation.python.3.11_qbz5n2kfra8p0\\localcache\\local-packages\\python311\\site-packages (from jupyter-events>=0.11.0->jupyter-server<3,>=2.4.0->jupyterlab->jupyter->jupyturtle) (0.1.4)\n",
      "Requirement already satisfied: rfc3986-validator>=0.1.1 in c:\\users\\ad\\appdata\\local\\packages\\pythonsoftwarefoundation.python.3.11_qbz5n2kfra8p0\\localcache\\local-packages\\python311\\site-packages (from jupyter-events>=0.11.0->jupyter-server<3,>=2.4.0->jupyterlab->jupyter->jupyturtle) (0.1.1)\n",
      "Requirement already satisfied: fqdn in c:\\users\\ad\\appdata\\local\\packages\\pythonsoftwarefoundation.python.3.11_qbz5n2kfra8p0\\localcache\\local-packages\\python311\\site-packages (from jsonschema[format-nongpl]>=4.18.0->jupyter-events>=0.11.0->jupyter-server<3,>=2.4.0->jupyterlab->jupyter->jupyturtle) (1.5.1)\n",
      "Requirement already satisfied: isoduration in c:\\users\\ad\\appdata\\local\\packages\\pythonsoftwarefoundation.python.3.11_qbz5n2kfra8p0\\localcache\\local-packages\\python311\\site-packages (from jsonschema[format-nongpl]>=4.18.0->jupyter-events>=0.11.0->jupyter-server<3,>=2.4.0->jupyterlab->jupyter->jupyturtle) (20.11.0)\n",
      "Requirement already satisfied: jsonpointer>1.13 in c:\\users\\ad\\appdata\\local\\packages\\pythonsoftwarefoundation.python.3.11_qbz5n2kfra8p0\\localcache\\local-packages\\python311\\site-packages (from jsonschema[format-nongpl]>=4.18.0->jupyter-events>=0.11.0->jupyter-server<3,>=2.4.0->jupyterlab->jupyter->jupyturtle) (3.0.0)\n",
      "Requirement already satisfied: rfc3987-syntax>=1.1.0 in c:\\users\\ad\\appdata\\local\\packages\\pythonsoftwarefoundation.python.3.11_qbz5n2kfra8p0\\localcache\\local-packages\\python311\\site-packages (from jsonschema[format-nongpl]>=4.18.0->jupyter-events>=0.11.0->jupyter-server<3,>=2.4.0->jupyterlab->jupyter->jupyturtle) (1.1.0)\n",
      "Requirement already satisfied: uri-template in c:\\users\\ad\\appdata\\local\\packages\\pythonsoftwarefoundation.python.3.11_qbz5n2kfra8p0\\localcache\\local-packages\\python311\\site-packages (from jsonschema[format-nongpl]>=4.18.0->jupyter-events>=0.11.0->jupyter-server<3,>=2.4.0->jupyterlab->jupyter->jupyturtle) (1.3.0)\n",
      "Requirement already satisfied: webcolors>=24.6.0 in c:\\users\\ad\\appdata\\local\\packages\\pythonsoftwarefoundation.python.3.11_qbz5n2kfra8p0\\localcache\\local-packages\\python311\\site-packages (from jsonschema[format-nongpl]>=4.18.0->jupyter-events>=0.11.0->jupyter-server<3,>=2.4.0->jupyterlab->jupyter->jupyturtle) (24.11.1)\n",
      "Requirement already satisfied: beautifulsoup4 in c:\\users\\ad\\appdata\\local\\packages\\pythonsoftwarefoundation.python.3.11_qbz5n2kfra8p0\\localcache\\local-packages\\python311\\site-packages (from nbconvert->jupyter->jupyturtle) (4.13.5)\n",
      "Requirement already satisfied: bleach!=5.0.0 in c:\\users\\ad\\appdata\\local\\packages\\pythonsoftwarefoundation.python.3.11_qbz5n2kfra8p0\\localcache\\local-packages\\python311\\site-packages (from bleach[css]!=5.0.0->nbconvert->jupyter->jupyturtle) (6.2.0)\n",
      "Requirement already satisfied: defusedxml in c:\\users\\ad\\appdata\\local\\packages\\pythonsoftwarefoundation.python.3.11_qbz5n2kfra8p0\\localcache\\local-packages\\python311\\site-packages (from nbconvert->jupyter->jupyturtle) (0.7.1)\n",
      "Requirement already satisfied: jupyterlab-pygments in c:\\users\\ad\\appdata\\local\\packages\\pythonsoftwarefoundation.python.3.11_qbz5n2kfra8p0\\localcache\\local-packages\\python311\\site-packages (from nbconvert->jupyter->jupyturtle) (0.3.0)\n",
      "Requirement already satisfied: mistune<4,>=2.0.3 in c:\\users\\ad\\appdata\\local\\packages\\pythonsoftwarefoundation.python.3.11_qbz5n2kfra8p0\\localcache\\local-packages\\python311\\site-packages (from nbconvert->jupyter->jupyturtle) (3.1.4)\n",
      "Requirement already satisfied: nbclient>=0.5.0 in c:\\users\\ad\\appdata\\local\\packages\\pythonsoftwarefoundation.python.3.11_qbz5n2kfra8p0\\localcache\\local-packages\\python311\\site-packages (from nbconvert->jupyter->jupyturtle) (0.10.2)\n",
      "Requirement already satisfied: pandocfilters>=1.4.1 in c:\\users\\ad\\appdata\\local\\packages\\pythonsoftwarefoundation.python.3.11_qbz5n2kfra8p0\\localcache\\local-packages\\python311\\site-packages (from nbconvert->jupyter->jupyturtle) (1.5.1)\n",
      "Requirement already satisfied: webencodings in c:\\users\\ad\\appdata\\local\\packages\\pythonsoftwarefoundation.python.3.11_qbz5n2kfra8p0\\localcache\\local-packages\\python311\\site-packages (from bleach!=5.0.0->bleach[css]!=5.0.0->nbconvert->jupyter->jupyturtle) (0.5.1)\n",
      "Requirement already satisfied: tinycss2<1.5,>=1.1.0 in c:\\users\\ad\\appdata\\local\\packages\\pythonsoftwarefoundation.python.3.11_qbz5n2kfra8p0\\localcache\\local-packages\\python311\\site-packages (from bleach[css]!=5.0.0->nbconvert->jupyter->jupyturtle) (1.4.0)\n",
      "Requirement already satisfied: fastjsonschema>=2.15 in c:\\users\\ad\\appdata\\local\\packages\\pythonsoftwarefoundation.python.3.11_qbz5n2kfra8p0\\localcache\\local-packages\\python311\\site-packages (from nbformat>=5.3.0->jupyter-server<3,>=2.4.0->jupyterlab->jupyter->jupyturtle) (2.21.2)\n",
      "Requirement already satisfied: charset_normalizer<4,>=2 in c:\\users\\ad\\appdata\\local\\packages\\pythonsoftwarefoundation.python.3.11_qbz5n2kfra8p0\\localcache\\local-packages\\python311\\site-packages (from requests>=2.31->jupyterlab-server<3,>=2.27.1->jupyterlab->jupyter->jupyturtle) (3.4.3)\n",
      "Requirement already satisfied: urllib3<3,>=1.21.1 in c:\\users\\ad\\appdata\\local\\packages\\pythonsoftwarefoundation.python.3.11_qbz5n2kfra8p0\\localcache\\local-packages\\python311\\site-packages (from requests>=2.31->jupyterlab-server<3,>=2.27.1->jupyterlab->jupyter->jupyturtle) (2.5.0)\n",
      "Requirement already satisfied: lark>=1.2.2 in c:\\users\\ad\\appdata\\local\\packages\\pythonsoftwarefoundation.python.3.11_qbz5n2kfra8p0\\localcache\\local-packages\\python311\\site-packages (from rfc3987-syntax>=1.1.0->jsonschema[format-nongpl]>=4.18.0->jupyter-events>=0.11.0->jupyter-server<3,>=2.4.0->jupyterlab->jupyter->jupyturtle) (1.2.2)\n",
      "Requirement already satisfied: cffi>=1.0.1 in c:\\users\\ad\\appdata\\local\\packages\\pythonsoftwarefoundation.python.3.11_qbz5n2kfra8p0\\localcache\\local-packages\\python311\\site-packages (from argon2-cffi-bindings->argon2-cffi>=21.1->jupyter-server<3,>=2.4.0->jupyterlab->jupyter->jupyturtle) (2.0.0)\n",
      "Requirement already satisfied: pycparser in c:\\users\\ad\\appdata\\local\\packages\\pythonsoftwarefoundation.python.3.11_qbz5n2kfra8p0\\localcache\\local-packages\\python311\\site-packages (from cffi>=1.0.1->argon2-cffi-bindings->argon2-cffi>=21.1->jupyter-server<3,>=2.4.0->jupyterlab->jupyter->jupyturtle) (2.23)\n",
      "Requirement already satisfied: soupsieve>1.2 in c:\\users\\ad\\appdata\\local\\packages\\pythonsoftwarefoundation.python.3.11_qbz5n2kfra8p0\\localcache\\local-packages\\python311\\site-packages (from beautifulsoup4->nbconvert->jupyter->jupyturtle) (2.8)\n",
      "Requirement already satisfied: arrow>=0.15.0 in c:\\users\\ad\\appdata\\local\\packages\\pythonsoftwarefoundation.python.3.11_qbz5n2kfra8p0\\localcache\\local-packages\\python311\\site-packages (from isoduration->jsonschema[format-nongpl]>=4.18.0->jupyter-events>=0.11.0->jupyter-server<3,>=2.4.0->jupyterlab->jupyter->jupyturtle) (1.3.0)\n",
      "Requirement already satisfied: types-python-dateutil>=2.8.10 in c:\\users\\ad\\appdata\\local\\packages\\pythonsoftwarefoundation.python.3.11_qbz5n2kfra8p0\\localcache\\local-packages\\python311\\site-packages (from arrow>=0.15.0->isoduration->jsonschema[format-nongpl]>=4.18.0->jupyter-events>=0.11.0->jupyter-server<3,>=2.4.0->jupyterlab->jupyter->jupyturtle) (2.9.0.20250822)\n",
      "Collecting iniconfig>=1 (from pytest->jupyturtle)\n",
      "  Downloading iniconfig-2.1.0-py3-none-any.whl.metadata (2.7 kB)\n",
      "Requirement already satisfied: pluggy<2,>=1.5 in c:\\users\\ad\\appdata\\local\\packages\\pythonsoftwarefoundation.python.3.11_qbz5n2kfra8p0\\localcache\\local-packages\\python311\\site-packages (from pytest->jupyturtle) (1.6.0)\n",
      "Requirement already satisfied: executing>=1.2.0 in c:\\users\\ad\\appdata\\local\\packages\\pythonsoftwarefoundation.python.3.11_qbz5n2kfra8p0\\localcache\\local-packages\\python311\\site-packages (from stack_data->ipython>=8->jupyturtle) (2.2.1)\n",
      "Requirement already satisfied: asttokens>=2.1.0 in c:\\users\\ad\\appdata\\local\\packages\\pythonsoftwarefoundation.python.3.11_qbz5n2kfra8p0\\localcache\\local-packages\\python311\\site-packages (from stack_data->ipython>=8->jupyturtle) (3.0.0)\n",
      "Requirement already satisfied: pure-eval in c:\\users\\ad\\appdata\\local\\packages\\pythonsoftwarefoundation.python.3.11_qbz5n2kfra8p0\\localcache\\local-packages\\python311\\site-packages (from stack_data->ipython>=8->jupyturtle) (0.2.3)\n",
      "Downloading jupyturtle-2024.4.1-py3-none-any.whl (7.5 kB)\n",
      "Downloading jupyter-1.1.1-py2.py3-none-any.whl (2.7 kB)\n",
      "Downloading ipywidgets-8.1.7-py3-none-any.whl (139 kB)\n",
      "Downloading jupyterlab_widgets-3.0.15-py3-none-any.whl (216 kB)\n",
      "Downloading widgetsnbextension-4.0.14-py3-none-any.whl (2.2 MB)\n",
      "   ---------------------------------------- 0.0/2.2 MB ? eta -:--:--\n",
      "   ----------------------- ---------------- 1.3/2.2 MB 6.1 MB/s eta 0:00:01\n",
      "   ---------------------------------------- 2.2/2.2 MB 4.9 MB/s  0:00:00\n",
      "Downloading jupyter_console-6.6.3-py3-none-any.whl (24 kB)\n",
      "Downloading pytest-8.4.2-py3-none-any.whl (365 kB)\n",
      "Downloading iniconfig-2.1.0-py3-none-any.whl (6.0 kB)\n",
      "Installing collected packages: widgetsnbextension, jupyterlab_widgets, iniconfig, pytest, ipywidgets, jupyter-console, jupyter, jupyturtle\n",
      "\n",
      "   ---------------------------------------- 0/8 [widgetsnbextension]\n",
      "   ---------------------------------------- 0/8 [widgetsnbextension]\n",
      "   ----- ---------------------------------- 1/8 [jupyterlab_widgets]\n",
      "   --------------- ------------------------ 3/8 [pytest]\n",
      "   --------------- ------------------------ 3/8 [pytest]\n",
      "   --------------- ------------------------ 3/8 [pytest]\n",
      "   --------------- ------------------------ 3/8 [pytest]\n",
      "   --------------- ------------------------ 3/8 [pytest]\n",
      "   --------------- ------------------------ 3/8 [pytest]\n",
      "   --------------- ------------------------ 3/8 [pytest]\n",
      "   --------------- ------------------------ 3/8 [pytest]\n",
      "   --------------- ------------------------ 3/8 [pytest]\n",
      "   -------------------- ------------------- 4/8 [ipywidgets]\n",
      "   -------------------- ------------------- 4/8 [ipywidgets]\n",
      "   -------------------- ------------------- 4/8 [ipywidgets]\n",
      "   -------------------- ------------------- 4/8 [ipywidgets]\n",
      "   -------------------- ------------------- 4/8 [ipywidgets]\n",
      "   ------------------------- -------------- 5/8 [jupyter-console]\n",
      "   ----------------------------------- ---- 7/8 [jupyturtle]\n",
      "   ---------------------------------------- 8/8 [jupyturtle]\n",
      "\n",
      "Successfully installed iniconfig-2.1.0 ipywidgets-8.1.7 jupyter-1.1.1 jupyter-console-6.6.3 jupyterlab_widgets-3.0.15 jupyturtle-2024.4.1 pytest-8.4.2 widgetsnbextension-4.0.14\n"
     ]
    },
    {
     "name": "stderr",
     "output_type": "stream",
     "text": [
      "  WARNING: The scripts py.test.exe and pytest.exe are installed in 'C:\\Users\\AD\\AppData\\Local\\Packages\\PythonSoftwareFoundation.Python.3.11_qbz5n2kfra8p0\\LocalCache\\local-packages\\Python311\\Scripts' which is not on PATH.\n",
      "  Consider adding this directory to PATH or, if you prefer to suppress this warning, use --no-warn-script-location.\n",
      "  WARNING: The script jupyter-console.exe is installed in 'C:\\Users\\AD\\AppData\\Local\\Packages\\PythonSoftwareFoundation.Python.3.11_qbz5n2kfra8p0\\LocalCache\\local-packages\\Python311\\Scripts' which is not on PATH.\n",
      "  Consider adding this directory to PATH or, if you prefer to suppress this warning, use --no-warn-script-location.\n"
     ]
    }
   ],
   "source": [
    "!pip install jupyturtle\n"
   ]
  },
  {
   "cell_type": "code",
   "execution_count": 1,
   "id": "27d7321a-c1e7-47f6-870d-24a916e0cf6f",
   "metadata": {},
   "outputs": [
    {
     "data": {
      "text/html": [
       "<svg width=\"300\" height=\"150\" style=\"fill:none; stroke-linecap:round;\">\n",
       "    <rect width=\"100%\" height=\"100%\" fill=\"#F3F3F7\" />\n",
       "\n",
       "\n",
       "<path stroke=\"#663399\" stroke-width=\"2\" d=\"M 150,75 170,75 177.7,65.8 176.5,58.7 177.7,65.8 184.9,65.8 177.7,65.8 170,75 177.7,84.2 184.9,84.2 177.7,84.2 176.5,91.3 177.7,84.2 170,75 150,75\" />'\n",
       "\n",
       "<g transform=\"rotate(-90.0,150.0,75.0) translate(150.0, 75.0)\">\n",
       "    <circle stroke=\"#63A375\" stroke-width=\"2\" fill=\"transparent\" r=\"5.5\" cx=\"0\" cy=\"0\"/>\n",
       "    <polygon points=\"0,12 2,9 -2,9\" style=\"fill:#63A375;stroke:#63A375;stroke-width:2\"/>\n",
       "</g>\n",
       "\n",
       "</svg>"
      ],
      "text/plain": [
       "<IPython.core.display.HTML object>"
      ]
     },
     "metadata": {},
     "output_type": "display_data"
    }
   ],
   "source": [
    "from jupyturtle import forward, left, right, back\n",
    "def draw(length):\n",
    "    angle = 50\n",
    "    factor = 0.6\n",
    "    if(length > 5):\n",
    "        forward(length)\n",
    "        left(angle)\n",
    "        draw (factor*length)\n",
    "        right(2*angle)\n",
    "        draw(factor*length)\n",
    "        left(angle)\n",
    "        back(length)\n",
    "draw(20)"
   ]
  },
  {
   "cell_type": "code",
   "execution_count": null,
   "id": "b76a26d9-3941-454c-b382-6c9c11ac945a",
   "metadata": {},
   "outputs": [],
   "source": [
    "text = input()\n",
    "print(\"\".join(reversed(text))) # dung join noi \n",
    "print(*list(reversed(text)), sep = \"\") #ep thanh list và in kieu giai nen"
   ]
  },
  {
   "cell_type": "code",
   "execution_count": 5,
   "id": "7c70c8a8-abb9-4afd-b1e5-ecb412428fc4",
   "metadata": {},
   "outputs": [
    {
     "name": "stdin",
     "output_type": "stream",
     "text": [
      " con bo an co\n"
     ]
    },
    {
     "name": "stdout",
     "output_type": "stream",
     "text": [
      "co an bo con\n"
     ]
    }
   ],
   "source": [
    "#Dao nguoc thu tu cac tu trong chuoi dau vao, VD: Con bo an co => co an bo con\n",
    "text = input()\n",
    "list_word = text.split()\n",
    "list_word = list_word[::-1]\n",
    "word_convers = ' '.join(list_word)\n",
    "print(word_convers)"
   ]
  },
  {
   "cell_type": "code",
   "execution_count": 2,
   "id": "c7e832c5-f16b-4b7a-9670-d26e30edb02b",
   "metadata": {},
   "outputs": [
    {
     "name": "stdin",
     "output_type": "stream",
     "text": [
      " toi yeu em vi do chinh la em\n"
     ]
    },
    {
     "name": "stdout",
     "output_type": "stream",
     "text": [
      "me al hnihc od iv me uey iot\n"
     ]
    }
   ],
   "source": [
    "#kiểm tra chuoi doi xung khong?\n",
    "text = input()\n",
    "conver_text = text[::-1]\n",
    "print(conver_text)"
   ]
  },
  {
   "cell_type": "code",
   "execution_count": 17,
   "id": "cb30f15b-047c-44cc-a56e-4d459edaebe4",
   "metadata": {},
   "outputs": [
    {
     "name": "stdin",
     "output_type": "stream",
     "text": [
      " 2\n",
      " Bong\n",
      " Hong\n"
     ]
    },
    {
     "name": "stdout",
     "output_type": "stream",
     "text": [
      "{'Bong': 1, 'Hong': 1}\n",
      "Bong 1\n"
     ]
    }
   ],
   "source": [
    "# 1.Nhập vào n họ tên người, Tìm và in ra tên người hay gặp nhất (Tên đúng chuẩn viết hoa chữ cái đầu từ)\n",
    "n = int(input())\n",
    "\n",
    "m = 0 # so lan xuat hien nhieu nhat\n",
    "common_name = None\n",
    "mp = dict()\n",
    "\n",
    "for _ in range(n):\n",
    "    full_name = input()\n",
    "    words = full_name.split()\n",
    "    name = words[len(words) - 1]\n",
    "    if(name in mp):\n",
    "        mp[name] += 1\n",
    "    else:\n",
    "        mp[name] = 1\n",
    "    if m < mp[name]:\n",
    "        m = mp[name]\n",
    "        common_name = name\n",
    "print(mp)\n",
    "print (common_name, m)\n",
    "\n",
    "\n",
    "# Có thể sử dụng list.count - O(n^2)\n",
    "# lst = [1, 2, 2, 3, 4, 2, 5, 3, 3]\n",
    "\n",
    "# max_count = 0\n",
    "# result = None\n",
    "\n",
    "# for x in lst:\n",
    "#     if lst.count(x) > max_count:\n",
    "#         max_count = lst.count(x)\n",
    "#         result = x\n",
    "\n",
    "# print(\"Số xuất hiện nhiều nhất:\", result)\n",
    "# print(\"Số lần xuất hiện:\", max_count)\n",
    "\n",
    "##Có thể dùng Counter - O(n)\n",
    "# from collections import Counter\n",
    "\n",
    "# lst = [1, 2, 2, 3, 4, 2, 5, 3, 3]\n",
    "\n",
    "# # Đếm tần suất\n",
    "# freq = Counter(lst)\n",
    "\n",
    "# # Tìm phần tử có count lớn nhất\n",
    "# most_common = freq.most_common(1)[0]   # [(giá trị, số lần)]\n",
    "# print(\"Số xuất hiện nhiều nhất:\", most_common[0])\n",
    "# print(\"Số lần xuất hiện:\", most_common[1])\n",
    "\n",
    "# mode, count = freq.most_common(1)[0]\n",
    "# print(\"Mode:\", mode, \"xuất hiện:\", count, \"lần\")\n",
    "\n"
   ]
  },
  {
   "cell_type": "markdown",
   "id": "06632d9a-daaa-446c-ae4e-03ea61f4d062",
   "metadata": {},
   "source": [
    "8\n",
    "Nguyen Thi Minh Khai\n",
    "Hoang Vu Khai\n",
    "Hoang The Anh\n",
    "Nguyen Vu Thuy Anh\n",
    "Le Nguyen Khoi\n",
    "Le Ba Khai\n",
    "Bui Thi Thuy\n",
    "Nguyen Vu Binh Duong"
   ]
  },
  {
   "cell_type": "code",
   "execution_count": 8,
   "id": "f98ea353-a449-4c8a-b3d4-38aeaafaa90a",
   "metadata": {},
   "outputs": [
    {
     "name": "stdin",
     "output_type": "stream",
     "text": [
      "  Chung toi hoc That Cham chi nhe Ban than Men\n"
     ]
    },
    {
     "name": "stdout",
     "output_type": "stream",
     "text": [
      "5\n"
     ]
    }
   ],
   "source": [
    "# Đếm số lượng Tên trong một xâu kí tự, Tên hợp lệ là từ có độ dài >=2 và có viết hoa đầu từ\n",
    "def is_valid_name(word):\n",
    "    return (len(word) >= 2 and word.istitle())\n",
    "# text = input()\n",
    "words = input().split()\n",
    "cnt = len(list(filter(is_valid_name, words)))\n",
    "\n",
    "print(cnt)\n"
   ]
  },
  {
   "cell_type": "code",
   "execution_count": 2,
   "id": "f4051cfe-a0f9-451d-b989-cc6dfce4849f",
   "metadata": {},
   "outputs": [
    {
     "name": "stdin",
     "output_type": "stream",
     "text": [
      " 1 4 5 7 8 90\n",
      " 1 34 78 900\n"
     ]
    },
    {
     "name": "stdout",
     "output_type": "stream",
     "text": [
      "1 1 4 5 7 8 34 78 90 900\n"
     ]
    }
   ],
   "source": [
    "#Trộn hai mảng thành một mà không dùng sắp xếp\n",
    "lst1 = list(map(int, input().split()))\n",
    "lst2 = list(map(int, input().split()))\n",
    "lst_merge = []\n",
    "i = 0\n",
    "j = 0\n",
    "while i < len(lst1) and j < len(lst2):\n",
    "    if(lst1[i] < lst2[j]):\n",
    "        lst_merge.append(lst1[i])\n",
    "        i += 1\n",
    "    else:\n",
    "        lst_merge.append(lst2[j])\n",
    "        j += 1\n",
    "while i < len(lst1):\n",
    "    lst_merge.append(lst1[i])\n",
    "    i += 1\n",
    "while j < len(lst2):\n",
    "    lst_merge.append(lst2[j])\n",
    "    j += 1\n",
    "\n",
    "print(*lst_merge)\n",
    "    "
   ]
  },
  {
   "cell_type": "code",
   "execution_count": 7,
   "id": "21b80efd-bff0-4fc7-956b-ca1dc2d702f4",
   "metadata": {},
   "outputs": [
    {
     "name": "stdin",
     "output_type": "stream",
     "text": [
      " 123 42 24 15 600 900 123000\n",
      " 6\n"
     ]
    },
    {
     "name": "stdout",
     "output_type": "stream",
     "text": [
      "123804\n"
     ]
    }
   ],
   "source": [
    "# Cho một dãy số nguyên, tính tổng (hoặc đếm, hoặc in ra) các số có tổng các chữ số bằng đúng K\n",
    "lst_int = map(int, input().split())\n",
    "k = int(input())\n",
    "\n",
    "def isValid(x: int) -> bool:\n",
    "    m = 0\n",
    "    while x > 0:\n",
    "        m += x %10\n",
    "        x //= 10\n",
    "    return m == k\n",
    "    \n",
    "s = 0 #Bien chua tong cua cac so\n",
    "for x in lst_int:\n",
    "    if isValid(x):\n",
    "        s += x\n",
    "\n",
    "print (s)\n",
    "\n",
    "#hãy tìm hiểu thêm cách dùng hàm sum - filter"
   ]
  },
  {
   "cell_type": "code",
   "execution_count": 2,
   "id": "cd2c8a90-4584-4afc-b6fb-4e66fec917d7",
   "metadata": {},
   "outputs": [
    {
     "name": "stdin",
     "output_type": "stream",
     "text": [
      " 23 9\n"
     ]
    },
    {
     "name": "stdout",
     "output_type": "stream",
     "text": [
      "267\n"
     ]
    }
   ],
   "source": [
    "# Cho N là ngày, T là tháng của năm 2000 (năm nhuận). Tính xem đó là ngày thứ bao nhiêu của năm. \n",
    "# Nhớ phải kiểm tra tính hợp lệ của dữ liệu vào\n",
    "# VD: ngày 2/2 là ngày thứ 33 của năm đó\n",
    "\n",
    "dayInMonth = [0, 31, 29, 31, 30, 31, 30, 31, 31, 30, 31, 30, 31]\n",
    "N, T = map(int, input().split())\n",
    "\n",
    "assert (1 <= T <= 12), 'Thang khong hop le'\n",
    "assert (1 <= N <= dayInMonth[T]), 'Ngay khong phu hop'\n",
    "\n",
    "# daysInYear = 0\n",
    "# for i in range (1, T):\n",
    "#     daysInYear += dayInMonth[i]\n",
    "\n",
    "# daysInYear += N\n",
    "# print(daysInYear)\n",
    "\n",
    "#Dung sum\n",
    "\n",
    "daysInYear = sum(dayInMonth[1:T]) + N\n",
    "print(daysInYear)\n",
    "   \n"
   ]
  },
  {
   "cell_type": "code",
   "execution_count": 3,
   "id": "e132ed46-b81b-4a1f-96fe-fc412154ee2d",
   "metadata": {},
   "outputs": [
    {
     "name": "stdin",
     "output_type": "stream",
     "text": [
      " Toi di hoc hoc, hoc, hoc\n"
     ]
    },
    {
     "name": "stdout",
     "output_type": "stream",
     "text": [
      "Toi di hoc hoc, hoc, hoc\n"
     ]
    }
   ],
   "source": [
    "# Xóa các từ giống nhau liền nhau trong mot doan van di\n",
    "lst = input().split()\n",
    "lst_in = []\n",
    "lst_in.append(lst[0])\n",
    "prev = lst[0]#luu lai tu moi them vao cuoi lst_in\n",
    "for i in range (1, len(lst)):\n",
    "    if lst[i] != prev:\n",
    "        prev = lst[i]\n",
    "        lst_in.append(prev)\n",
    "ans = ' '.join(lst_in)\n",
    "print(ans)"
   ]
  },
  {
   "cell_type": "code",
   "execution_count": null,
   "id": "69f61b8f-a7e0-44bd-9848-572a351e2061",
   "metadata": {},
   "outputs": [],
   "source": [
    "#### Xóa các từ giống nhau liền nhau trong mot doan van di, xử lý bỏ cả dấu câu\n",
    "import re\n",
    "\n",
    "text = input(\"Nhập đoạn văn: \")\n",
    "\n",
    "# Tách từ theo nhiều dấu phân tách: , ; .\n",
    "lst = re.split(r\"[,\\.;\\s]+\", text.strip())\n",
    "\n",
    "lst_in = []\n",
    "lst_in.append(lst[0])\n",
    "\n",
    "prev = lst[0]#luu lai tu moi them vao cuoi lst_in\n",
    "\n",
    "for i in range (1, len(lst)):\n",
    "    if lst[i] != prev:\n",
    "        prev = lst[i]\n",
    "        lst_in.append(prev)\n",
    "        \n",
    "ans = ' '.join(lst_in)\n",
    "print(ans)"
   ]
  },
  {
   "cell_type": "code",
   "execution_count": 3,
   "id": "888b3607-478a-442c-a434-738d215b4c10",
   "metadata": {},
   "outputs": [
    {
     "data": {
      "text/plain": [
       "['ArithmeticError',\n",
       " 'AssertionError',\n",
       " 'AttributeError',\n",
       " 'BaseException',\n",
       " 'BaseExceptionGroup',\n",
       " 'BlockingIOError',\n",
       " 'BrokenPipeError',\n",
       " 'BufferError',\n",
       " 'BytesWarning',\n",
       " 'ChildProcessError',\n",
       " 'ConnectionAbortedError',\n",
       " 'ConnectionError',\n",
       " 'ConnectionRefusedError',\n",
       " 'ConnectionResetError',\n",
       " 'DeprecationWarning',\n",
       " 'EOFError',\n",
       " 'Ellipsis',\n",
       " 'EncodingWarning',\n",
       " 'EnvironmentError',\n",
       " 'Exception',\n",
       " 'ExceptionGroup',\n",
       " 'False',\n",
       " 'FileExistsError',\n",
       " 'FileNotFoundError',\n",
       " 'FloatingPointError',\n",
       " 'FutureWarning',\n",
       " 'GeneratorExit',\n",
       " 'IOError',\n",
       " 'ImportError',\n",
       " 'ImportWarning',\n",
       " 'IndentationError',\n",
       " 'IndexError',\n",
       " 'InterruptedError',\n",
       " 'IsADirectoryError',\n",
       " 'KeyError',\n",
       " 'KeyboardInterrupt',\n",
       " 'LookupError',\n",
       " 'MemoryError',\n",
       " 'ModuleNotFoundError',\n",
       " 'NameError',\n",
       " 'None',\n",
       " 'NotADirectoryError',\n",
       " 'NotImplemented',\n",
       " 'NotImplementedError',\n",
       " 'OSError',\n",
       " 'OverflowError',\n",
       " 'PendingDeprecationWarning',\n",
       " 'PermissionError',\n",
       " 'ProcessLookupError',\n",
       " 'RecursionError',\n",
       " 'ReferenceError',\n",
       " 'ResourceWarning',\n",
       " 'RuntimeError',\n",
       " 'RuntimeWarning',\n",
       " 'StopAsyncIteration',\n",
       " 'StopIteration',\n",
       " 'SyntaxError',\n",
       " 'SyntaxWarning',\n",
       " 'SystemError',\n",
       " 'SystemExit',\n",
       " 'TabError',\n",
       " 'TimeoutError',\n",
       " 'True',\n",
       " 'TypeError',\n",
       " 'UnboundLocalError',\n",
       " 'UnicodeDecodeError',\n",
       " 'UnicodeEncodeError',\n",
       " 'UnicodeError',\n",
       " 'UnicodeTranslateError',\n",
       " 'UnicodeWarning',\n",
       " 'UserWarning',\n",
       " 'ValueError',\n",
       " 'Warning',\n",
       " 'WindowsError',\n",
       " 'ZeroDivisionError',\n",
       " '__IPYTHON__',\n",
       " '__build_class__',\n",
       " '__debug__',\n",
       " '__doc__',\n",
       " '__import__',\n",
       " '__loader__',\n",
       " '__name__',\n",
       " '__package__',\n",
       " '__spec__',\n",
       " 'abs',\n",
       " 'aiter',\n",
       " 'all',\n",
       " 'anext',\n",
       " 'any',\n",
       " 'ascii',\n",
       " 'bin',\n",
       " 'bool',\n",
       " 'breakpoint',\n",
       " 'bytearray',\n",
       " 'bytes',\n",
       " 'callable',\n",
       " 'chr',\n",
       " 'classmethod',\n",
       " 'compile',\n",
       " 'complex',\n",
       " 'copyright',\n",
       " 'credits',\n",
       " 'delattr',\n",
       " 'dict',\n",
       " 'dir',\n",
       " 'display',\n",
       " 'divmod',\n",
       " 'enumerate',\n",
       " 'eval',\n",
       " 'exec',\n",
       " 'execfile',\n",
       " 'filter',\n",
       " 'float',\n",
       " 'format',\n",
       " 'frozenset',\n",
       " 'get_ipython',\n",
       " 'getattr',\n",
       " 'globals',\n",
       " 'hasattr',\n",
       " 'hash',\n",
       " 'help',\n",
       " 'hex',\n",
       " 'id',\n",
       " 'input',\n",
       " 'int',\n",
       " 'isinstance',\n",
       " 'issubclass',\n",
       " 'iter',\n",
       " 'len',\n",
       " 'license',\n",
       " 'list',\n",
       " 'locals',\n",
       " 'map',\n",
       " 'max',\n",
       " 'memoryview',\n",
       " 'min',\n",
       " 'next',\n",
       " 'object',\n",
       " 'oct',\n",
       " 'open',\n",
       " 'ord',\n",
       " 'pow',\n",
       " 'print',\n",
       " 'property',\n",
       " 'range',\n",
       " 'repr',\n",
       " 'reversed',\n",
       " 'round',\n",
       " 'runfile',\n",
       " 'set',\n",
       " 'setattr',\n",
       " 'slice',\n",
       " 'sorted',\n",
       " 'staticmethod',\n",
       " 'str',\n",
       " 'sum',\n",
       " 'super',\n",
       " 'tuple',\n",
       " 'type',\n",
       " 'vars',\n",
       " 'zip']"
      ]
     },
     "execution_count": 3,
     "metadata": {},
     "output_type": "execute_result"
    }
   ],
   "source": [
    "import builtins\n",
    "dir(builtins)"
   ]
  },
  {
   "cell_type": "code",
   "execution_count": null,
   "id": "2755440c-dcb8-487a-a346-d64b2b9403fe",
   "metadata": {},
   "outputs": [],
   "source": []
  }
 ],
 "metadata": {
  "kernelspec": {
   "display_name": "Python 3 (ipykernel)",
   "language": "python",
   "name": "python3"
  },
  "language_info": {
   "codemirror_mode": {
    "name": "ipython",
    "version": 3
   },
   "file_extension": ".py",
   "mimetype": "text/x-python",
   "name": "python",
   "nbconvert_exporter": "python",
   "pygments_lexer": "ipython3",
   "version": "3.11.9"
  }
 },
 "nbformat": 4,
 "nbformat_minor": 5
}
