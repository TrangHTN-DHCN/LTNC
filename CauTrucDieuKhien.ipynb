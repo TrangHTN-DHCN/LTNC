{
 "cells": [
  {
   "cell_type": "code",
   "execution_count": 3,
   "id": "8003e6bc",
   "metadata": {},
   "outputs": [
    {
     "name": "stdout",
     "output_type": "stream",
     "text": [
      "23 la so le\n"
     ]
    }
   ],
   "source": [
    "a = int(input())\n",
    "if (a % 2 == 0):\n",
    "    print(f\"{a} la so chan\")\n",
    "else:\n",
    "    print(f\"{a} la so le\")"
   ]
  },
  {
   "cell_type": "code",
   "execution_count": null,
   "id": "dcefcd84",
   "metadata": {},
   "outputs": [
    {
     "name": "stdout",
     "output_type": "stream",
     "text": [
      "YES\n"
     ]
    }
   ],
   "source": [
    "a = int(input())\n",
    "if (a % 10 == 5):\n",
    "    print (\"YES\")\n",
    "else:\n",
    "    print(\"NO\")"
   ]
  },
  {
   "cell_type": "code",
   "execution_count": 1,
   "id": "1bc5d323",
   "metadata": {},
   "outputs": [
    {
     "name": "stdout",
     "output_type": "stream",
     "text": [
      "Thu Hai\n"
     ]
    }
   ],
   "source": [
    "so = int(input())\n",
    "thu = \"\"\n",
    "match so:\n",
    "    case 1: \n",
    "        thu = \"Chu Nhat\"\n",
    "    case 2: \n",
    "        thu = \"Thu Hai\"\n",
    "    case 3: \n",
    "        thu = \"Thu Ba\"\n",
    "    case 4: \n",
    "        thu = \"Thu Hai\"\n",
    "    case 5: \n",
    "        thu = \"Thu Ba\"\n",
    "    case 6: \n",
    "        thu = \"Thu Hai\"\n",
    "    case 7: \n",
    "        thu = \"Thu Ba\"  \n",
    "    case _:\n",
    "        thu = \"Khong co thu nay trong tuan\"\n",
    "print(thu)\n",
    "\n",
    "    "
   ]
  }
 ],
 "metadata": {
  "kernelspec": {
   "display_name": "Python 3",
   "language": "python",
   "name": "python3"
  },
  "language_info": {
   "codemirror_mode": {
    "name": "ipython",
    "version": 3
   },
   "file_extension": ".py",
   "mimetype": "text/x-python",
   "name": "python",
   "nbconvert_exporter": "python",
   "pygments_lexer": "ipython3",
   "version": "3.11.9"
  }
 },
 "nbformat": 4,
 "nbformat_minor": 5
}
