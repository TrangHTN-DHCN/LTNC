{
 "cells": [
  {
   "cell_type": "code",
   "execution_count": 3,
   "id": "8003e6bc",
   "metadata": {},
   "outputs": [
    {
     "name": "stdout",
     "output_type": "stream",
     "text": [
      "23 la so le\n"
     ]
    }
   ],
   "source": [
    "a = int(input())\n",
    "if (a % 2 == 0):\n",
    "    print(f\"{a} la so chan\")\n",
    "else:\n",
    "    print(f\"{a} la so le\")"
   ]
  },
  {
   "cell_type": "code",
   "execution_count": null,
   "id": "dcefcd84",
   "metadata": {},
   "outputs": [
    {
     "name": "stdout",
     "output_type": "stream",
     "text": [
      "YES\n"
     ]
    }
   ],
   "source": [
    "a = int(input())\n",
    "if (a % 10 == 5):\n",
    "    print (\"YES\")\n",
    "else:\n",
    "    print(\"NO\")"
   ]
  },
  {
   "cell_type": "code",
   "execution_count": 1,
   "id": "1bc5d323",
   "metadata": {},
   "outputs": [
    {
     "name": "stdin",
     "output_type": "stream",
     "text": [
      " 3\n"
     ]
    },
    {
     "name": "stdout",
     "output_type": "stream",
     "text": [
      "Thu Ba\n"
     ]
    }
   ],
   "source": [
    "so = int(input())\n",
    "thu = \"\"\n",
    "match so:\n",
    "    case 1: \n",
    "        thu = \"Chu Nhat\"\n",
    "    case 2: \n",
    "        thu = \"Thu Hai\"\n",
    "    case 3: \n",
    "        thu = \"Thu Ba\"\n",
    "    case 4: \n",
    "        thu = \"Thu Hai\"\n",
    "    case 5: \n",
    "        thu = \"Thu Ba\"\n",
    "    case 6: \n",
    "        thu = \"Thu Hai\"\n",
    "    case 7: \n",
    "        thu = \"Thu Ba\"  \n",
    "    case _:\n",
    "        thu = \"Khong co thu nay trong tuan\"\n",
    "print(thu)\n",
    "\n",
    "    "
   ]
  },
  {
   "cell_type": "code",
   "execution_count": 2,
   "id": "23c38423-0e29-487a-ad90-63053625d633",
   "metadata": {},
   "outputs": [
    {
     "data": {
      "text/plain": [
       "100"
      ]
     },
     "execution_count": 2,
     "metadata": {},
     "output_type": "execute_result"
    }
   ],
   "source": [
    "x = 10\n",
    "if x > 10:\n",
    " x = 20\n",
    "else:\n",
    " x = 100\n",
    "x"
   ]
  },
  {
   "cell_type": "code",
   "execution_count": 11,
   "id": "1a17b414-c76b-42ea-bd82-732a4b39fee5",
   "metadata": {},
   "outputs": [
    {
     "name": "stdout",
     "output_type": "stream",
     "text": [
      "0\n",
      "1\n",
      "2\n",
      "3\n",
      "4\n",
      "5\n",
      "6\n",
      "7\n",
      "8\n",
      "9\n",
      "10\n",
      "11\n",
      "12\n",
      "13\n",
      "14\n",
      "15\n",
      "16\n",
      "17\n",
      "18\n",
      "19\n"
     ]
    }
   ],
   "source": [
    "for x in range (20):\n",
    "    if x % 5 == 0:\n",
    "        pass #MOT DANG BO QUA - KHONG LAM GI - RAT HOP LE\n",
    "        continue #BO QUA CAC LENH PHIA SAU, NHAY VAO VONG LAP TIEP THEO\n",
    "    print (x)"
   ]
  },
  {
   "cell_type": "code",
   "execution_count": 19,
   "id": "ed844235-fe80-41b0-bcb2-c3c25cd401c2",
   "metadata": {},
   "outputs": [
    {
     "name": "stdin",
     "output_type": "stream",
     "text": [
      " 5\n"
     ]
    },
    {
     "name": "stdout",
     "output_type": "stream",
     "text": [
      "10 8 10 1 4\n"
     ]
    }
   ],
   "source": [
    "import random as rd\n",
    "x = int(input().strip())\n",
    "lst = []\n",
    "while x:\n",
    "    y = rd.randint(1, 10) #Lay so ngau nhien\n",
    "    lst.append(y)\n",
    "    x -= 1\n",
    "print(*lst)\n",
    "# 0.4434390430527372 0.29767201785335684 0.4375137630095296 0.6588350361994684 0.19644326168774895\n",
    "#  5\n",
    "# 8 2 9 5 2"
   ]
  },
  {
   "cell_type": "code",
   "execution_count": null,
   "id": "7721eb2a-018c-49ee-a016-d0c05dab39cf",
   "metadata": {},
   "outputs": [],
   "source": []
  }
 ],
 "metadata": {
  "kernelspec": {
   "display_name": "Python 3 (ipykernel)",
   "language": "python",
   "name": "python3"
  },
  "language_info": {
   "codemirror_mode": {
    "name": "ipython",
    "version": 3
   },
   "file_extension": ".py",
   "mimetype": "text/x-python",
   "name": "python",
   "nbconvert_exporter": "python",
   "pygments_lexer": "ipython3",
   "version": "3.11.9"
  }
 },
 "nbformat": 4,
 "nbformat_minor": 5
}
