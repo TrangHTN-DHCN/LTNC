{
 "cells": [
  {
   "cell_type": "code",
   "execution_count": 2,
   "id": "748a1465-d3d1-44a6-9854-af47f43259d7",
   "metadata": {},
   "outputs": [
    {
     "name": "stdout",
     "output_type": "stream",
     "text": [
      " 12\n"
     ]
    },
    {
     "name": "stdout",
     "output_type": "stream",
     "text": [
      "24\n"
     ]
    }
   ],
   "source": [
    "# Nhập vào số nguyên n, in ra màn hình số gấp đôi của n \n",
    "n = int(input())\n",
    "print(2*n)"
   ]
  },
  {
   "cell_type": "markdown",
   "id": "15ba2027-2a08-4f52-9985-f5a55b5495e9",
   "metadata": {},
   "source": [
    "Bai 2: Một khu đất hình chữ nhật có chiều rộng a, chiều dài b. Người ra xây một khu\n",
    "vui chơi hình tròn tại vị trí trung tâm khu đất như hình vẽ. Nhập vào a, b. Hãy tính phần\n",
    "diện tích còn để trồng cây xung quanh là bao nhiêu. Biết pi = 3.14, lấy kết quả đến 2\n",
    "chữ số phần thập phân. "
   ]
  },
  {
   "cell_type": "code",
   "execution_count": 6,
   "id": "3b331c82-3c48-4ed5-9eee-baef0b1a7d88",
   "metadata": {},
   "outputs": [
    {
     "name": "stdout",
     "output_type": "stream",
     "text": [
      " 10 20\n"
     ]
    },
    {
     "name": "stdout",
     "output_type": "stream",
     "text": [
      "121.50\n"
     ]
    }
   ],
   "source": [
    "a, b = map(float, input().split())\n",
    "pi = 3.14\n",
    "play_area = pi*a*a/4\n",
    "all_area = a*b\n",
    "remain_area = all_area - play_area\n",
    "print(f'{remain_area:.2f}')"
   ]
  },
  {
   "cell_type": "markdown",
   "id": "3bd59739-524b-4762-8629-c8ccb4478ae3",
   "metadata": {},
   "source": [
    "Bài 3: Viết chương trình nhập vào một “kí tự” c, nếu nó là chữ hoa thì in ra chữ thường\n",
    "tương ứng và ngược lại nếu nó là chữ thường thì in ra chữ hoa tương ứng của nó. (xem\n",
    "trước cấu trúc lựa chọn: if….else, ma) \n"
   ]
  },
  {
   "cell_type": "code",
   "execution_count": 4,
   "id": "5b838ef9-bd0a-4139-abd2-72fc389b21ec",
   "metadata": {},
   "outputs": [
    {
     "name": "stdout",
     "output_type": "stream",
     "text": [
      "12\n"
     ]
    }
   ],
   "source": [
    "s = input()\n",
    "if s.islower():\n",
    "    s = s.upper()\n",
    "elif s.isupper():\n",
    "    s = s.lower()\n",
    "print(s)\n",
    "    "
   ]
  }
 ],
 "metadata": {
  "kernelspec": {
   "display_name": "Python 3",
   "language": "python",
   "name": "python3"
  },
  "language_info": {
   "codemirror_mode": {
    "name": "ipython",
    "version": 3
   },
   "file_extension": ".py",
   "mimetype": "text/x-python",
   "name": "python",
   "nbconvert_exporter": "python",
   "pygments_lexer": "ipython3",
   "version": "3.11.9"
  }
 },
 "nbformat": 4,
 "nbformat_minor": 5
}
