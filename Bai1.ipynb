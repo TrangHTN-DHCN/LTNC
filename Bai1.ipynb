{
 "cells": [
  {
   "cell_type": "code",
   "execution_count": 1,
   "id": "ee152a91",
   "metadata": {},
   "outputs": [
    {
     "name": "stdout",
     "output_type": "stream",
     "text": [
      "Xin chao cac ban\n"
     ]
    }
   ],
   "source": [
    "print(\"Xin chao cac ban\")"
   ]
  },
  {
   "cell_type": "code",
   "execution_count": 2,
   "id": "d73f8ffe",
   "metadata": {},
   "outputs": [
    {
     "name": "stdout",
     "output_type": "stream",
     "text": [
      "6\n"
     ]
    }
   ],
   "source": [
    "a, b, c = map(int, input().split())\n",
    "print(a+b+c)\n"
   ]
  },
  {
   "cell_type": "code",
   "execution_count": null,
   "id": "c74cec67",
   "metadata": {},
   "outputs": [
    {
     "name": "stdout",
     "output_type": "stream",
     "text": [
      "3\n",
      "3\n"
     ]
    }
   ],
   "source": [
    "#Đếm từ có chữ e trong dòng vào ban đầu\n",
    "line = input()\n",
    "def has_e(word):\n",
    "    if 'E' in word or 'e' in word:\n",
    "        return True\n",
    "    return False\n",
    "\n",
    "def has_e1(word):\n",
    "    word = word.lower()\n",
    "    if 'e' in word:\n",
    "        return True\n",
    "    return False\n",
    "\n",
    "def has_e2(word):\n",
    "    return True if ('E' in word or 'e' in word) else False\n",
    "\n",
    "cnt = 0\n",
    "for word in line.split():\n",
    "    if has_e(word):\n",
    "        cnt += 1\n",
    "print (cnt)\n",
    "\n",
    "cnt = 0\n",
    "for word in line.split():\n",
    "    if has_e2(word):\n",
    "        cnt += 1\n",
    "print (cnt)"
   ]
  },
  {
   "cell_type": "code",
   "execution_count": 2,
   "id": "fda0bc69-a2ed-4333-bfbd-8faa2fa01f83",
   "metadata": {},
   "outputs": [
    {
     "name": "stdin",
     "output_type": "stream",
     "text": [
      " 6 5 1 89\n"
     ]
    },
    {
     "name": "stdout",
     "output_type": "stream",
     "text": [
      "89 1\n"
     ]
    }
   ],
   "source": [
    "a, b, c, d = map(int, input().split())\n",
    "M = max(a, b,c, d)\n",
    "Min = min(a, b, c, d)\n",
    "print(M, Min)"
   ]
  }
 ],
 "metadata": {
  "kernelspec": {
   "display_name": "Python 3 (ipykernel)",
   "language": "python",
   "name": "python3"
  },
  "language_info": {
   "codemirror_mode": {
    "name": "ipython",
    "version": 3
   },
   "file_extension": ".py",
   "mimetype": "text/x-python",
   "name": "python",
   "nbconvert_exporter": "python",
   "pygments_lexer": "ipython3",
   "version": "3.11.9"
  }
 },
 "nbformat": 4,
 "nbformat_minor": 5
}
