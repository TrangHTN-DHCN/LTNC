print("Xin chao cac ban")


a, b, c = map(int, input().split())
print(a+b+c)



#Đếm từ có chữ e trong dòng vào ban đầu
line = input()
def has_e(word):
    if 'E' in word or 'e' in word:
        return True
    return False

def has_e1(word):
    word = word.lower()
    if 'e' in word:
        return True
    return False

def has_e2(word):
    return True if ('E' in word or 'e' in word) else False

cnt = 0
for word in line.split():
    if has_e(word):
        cnt += 1
print (cnt)

cnt = 0
for word in line.split():
    if has_e2(word):
        cnt += 1
print (cnt)


a, b, c, d = map(int, input().split())
M = max(a, b,c, d)
Min = min(a, b, c, d)
print(M, Min)
