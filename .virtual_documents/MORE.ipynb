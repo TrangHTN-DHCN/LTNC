get_ipython().getoutput("git add .")
    



from jupyturtle import forward, left, right, back
def draw(length):
    angle = 50
    factor = 0.6
    if(length > 5):
        forward(length)
        left(angle)
        draw (factor*length)
        right(2*angle)
        draw(factor*length)
        left(angle)
        back(length)
draw(20)


text = input()
print("".join(reversed(text))) # dung join noi 
print(*list(reversed(text)), sep = "") #ep thanh list và in kieu giai nen


#Dao nguoc thu tu cac tu trong chuoi dau vao, VD: Con bo an co => co an bo con
text = input()
list_word = text.split()
list_word = list_word[::-1]
word_convers = ' '.join(list_word)
print(word_convers)


#kiểm tra chuoi doi xung khong?
text = input()
conver_text = text[::-1]
print(conver_text)


# 1.Nhập vào n họ tên người, Tìm và in ra tên người hay gặp nhất (Tên đúng chuẩn viết hoa chữ cái đầu từ)
n = int(input())

m = 0 # so lan xuat hien nhieu nhat
common_name = None
mp = dict()

for _ in range(n):
    full_name = input()
    words = full_name.split()
    name = words[len(words) - 1]
    if(name in mp):
        mp[name] += 1
    else:
        mp[name] = 1
    if m < mp[name]:
        m = mp[name]
        common_name = name
print(mp)
print (common_name, m)


# Có thể sử dụng list.count - O(n^2)
# lst = [1, 2, 2, 3, 4, 2, 5, 3, 3]

# max_count = 0
# result = None

# for x in lst:
#     if lst.count(x) > max_count:
#         max_count = lst.count(x)
#         result = x

# print("Số xuất hiện nhiều nhất:", result)
# print("Số lần xuất hiện:", max_count)

##Có thể dùng Counter - O(n)
# from collections import Counter

# lst = [1, 2, 2, 3, 4, 2, 5, 3, 3]

# # Đếm tần suất
# freq = Counter(lst)

# # Tìm phần tử có count lớn nhất
# most_common = freq.most_common(1)[0]   # [(giá trị, số lần)]
# print("Số xuất hiện nhiều nhất:", most_common[0])
# print("Số lần xuất hiện:", most_common[1])

# mode, count = freq.most_common(1)[0]
# print("Mode:", mode, "xuất hiện:", count, "lần")







# Đếm số lượng Tên trong một xâu kí tự, Tên hợp lệ là từ có độ dài >=2 và có viết hoa đầu từ
def is_valid_name(word):
    return (len(word) >= 2 and word.istitle())
# text = input()
words = input().split()
cnt = len(list(filter(is_valid_name, words)))

print(cnt)



#Trộn hai mảng thành một mà không dùng sắp xếp
lst1 = list(map(int, input().split()))
lst2 = list(map(int, input().split()))
lst_merge = []
i = 0
j = 0
while i < len(lst1) and j < len(lst2):
    if(lst1[i] < lst2[j]):
        lst_merge.append(lst1[i])
        i += 1
    else:
        lst_merge.append(lst2[j])
        j += 1
while i < len(lst1):
    lst_merge.append(lst1[i])
    i += 1
while j < len(lst2):
    lst_merge.append(lst2[j])
    j += 1

print(*lst_merge)
    


# Cho một dãy số nguyên, tính tổng (hoặc đếm, hoặc in ra) các số có tổng các chữ số bằng đúng K
lst_int = map(int, input().split())
k = int(input())

def isValid(x: int) -> bool:
    m = 0
    while x > 0:
        m += x %10
        x //= 10
    return m == k
    
s = 0 #Bien chua tong cua cac so
for x in lst_int:
    if isValid(x):
        s += x

print (s)

#hãy tìm hiểu thêm cách dùng hàm sum - filter


# Cho N là ngày, T là tháng của năm 2000 (năm nhuận). Tính xem đó là ngày thứ bao nhiêu của năm. 
# Nhớ phải kiểm tra tính hợp lệ của dữ liệu vào
# VD: ngày 2/2 là ngày thứ 33 của năm đó

dayInMonth = [0, 31, 29, 31, 30, 31, 30, 31, 31, 30, 31, 30, 31]
N, T = map(int, input().split())

assert (1 <= T <= 12), 'Thang khong hop le'
assert (1 <= N <= dayInMonth[T]), 'Ngay khong phu hop'

# daysInYear = 0
# for i in range (1, T):
#     daysInYear += dayInMonth[i]

# daysInYear += N
# print(daysInYear)

#Dung sum

daysInYear = sum(dayInMonth[1:T]) + N
print(daysInYear)
   



# Xóa các từ giống nhau liền nhau trong mot doan van di
lst = input().split()
lst_in = []
lst_in.append(lst[0])
prev = lst[0]#luu lai tu moi them vao cuoi lst_in
for i in range (1, len(lst)):
    if lst[i] != prev:
        prev = lst[i]
        lst_in.append(prev)
ans = ' '.join(lst_in)
print(ans)


#### Xóa các từ giống nhau liền nhau trong mot doan van di, xử lý bỏ cả dấu câu
import re

text = input("Nhập đoạn văn: ")

# Tách từ theo nhiều dấu phân tách: , ; .
lst = re.split(r"[,\.;\s]+", text.strip())

lst_in = []
lst_in.append(lst[0])

prev = lst[0]#luu lai tu moi them vao cuoi lst_in

for i in range (1, len(lst)):
    if lst[i] != prev:
        prev = lst[i]
        lst_in.append(prev)
        
ans = ' '.join(lst_in)
print(ans)


import builtins
dir(builtins)



