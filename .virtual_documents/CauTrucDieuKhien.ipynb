a = int(input())
if (a % 2 == 0):
    print(f"{a} la so chan")
else:
    print(f"{a} la so le")


a = int(input())
if (a % 10 == 5):
    print ("YES")
else:
    print("NO")


so = int(input())
thu = ""
match so:
    case 1: 
        thu = "Chu Nhat"
    case 2: 
        thu = "Thu Hai"
    case 3: 
        thu = "Thu Ba"
    case 4: 
        thu = "Thu Hai"
    case 5: 
        thu = "Thu Ba"
    case 6: 
        thu = "Thu Hai"
    case 7: 
        thu = "Thu Ba"  
    case _:
        thu = "Khong co thu nay trong tuan"
print(thu)

    


x = 10
if x > 10:
 x = 20
else:
 x = 100
x


for x in range (20):
    if x % 5 == 0:
        pass #MOT DANG BO QUA - KHONG LAM GI - RAT HOP LE
        continue #BO QUA CAC LENH PHIA SAU, NHAY VAO VONG LAP TIEP THEO
    print (x)


import random as rd
x = int(input().strip())
lst = []
while x:
    y = rd.randint(1, 10) #Lay so ngau nhien
    lst.append(y)
    x -= 1
print(*lst)
# 0.4434390430527372 0.29767201785335684 0.4375137630095296 0.6588350361994684 0.19644326168774895
#  5
# 8 2 9 5 2



