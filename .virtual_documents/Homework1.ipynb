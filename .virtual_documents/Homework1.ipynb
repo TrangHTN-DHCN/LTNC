# Nhập vào số nguyên n, in ra màn hình số gấp đôi của n 
n = int(input())
print(2*n)





a, b = map(float, input().split())
pi = 3.14
play_area = pi*a*a/4
all_area = a*b
remain_area = all_area - play_area
print(f'{remain_area:.2f}')





s = input()
if s.islower():
    s = s.upper()
elif s.isupper():
    s = s.lower()
print(s)
    
